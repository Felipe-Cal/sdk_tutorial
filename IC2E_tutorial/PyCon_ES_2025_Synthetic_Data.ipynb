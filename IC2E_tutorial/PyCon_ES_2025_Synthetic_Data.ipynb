{
 "cells": [
  {
   "cell_type": "markdown",
   "id": "b04499bb",
   "metadata": {},
   "source": [
    "# No data? No problem! Genera datasets sintéticos con Python\n",
    "\n",
    "**PyCon España 2025 - Workshop (90 minutos)**\n",
    "\n",
    "Este notebook guía el workshop práctico sobre generación de datos sintéticos con el SDK de MostlyAI.\n",
    "\n",
    "## Objetivos del workshop:\n",
    "- ✅ Entender el problema de reidentificación y por qué la anonimización tradicional no funciona\n",
    "- ✅ Generar datos sintéticos realistas desde cero\n",
    "- ✅ Evaluar la calidad y utilidad de los datos sintéticos\n",
    "- ✅ Controlar el resultado con filtros y condiciones específicas  \n",
    "- ✅ Crear conjuntos multitabla con relaciones entre entidades\n",
    "- ✅ Trabajar con datos sin comprometer la privacidad\n",
    "\n",
    "**Dataset**: US Census Income  \n",
    "**SDK**: MostlyAI (open source)\n",
    "\n",
    "---\n"
   ]
  },
  {
   "cell_type": "markdown",
   "id": "23579ea2",
   "metadata": {},
   "source": [
    "## Flujo del Workshop\n",
    "\n",
    "- Configuración del entorno (5 min)\n",
    "\n",
    "- El Problema: Reidentificación (12 min)\n",
    "  - Demo de reidentificación en datos \"anonimizados\"\n",
    "  - Por qué la anonimización tradicional no funciona\n",
    "\n",
    "- Fundamentos: Tu primer dataset sintético (18 min)\n",
    "  - Entrenar un generator\n",
    "  - Generar datos sintéticos\n",
    "  - Comparar distribuciones\n",
    "\n",
    "- Evaluación: ¿Son buenos estos datos? (12 min)\n",
    "  - QA Report automático\n",
    "  - TSTR (Train-on-Synthetic / Test-on-Real)\n",
    "\n",
    "- Control del resultado (20 min)\n",
    "  - Seeded generation (generación condicional)\n",
    "  - Imputation inteligente\n",
    "  - Rebalancing de clases\n",
    "\n",
    "- Datasets Multitabla con Relaciones (20 min)\n",
    "  - Crear estructura multitabla\n",
    "  - Mantener integridad referencial\n",
    "  - Análisis con JOINs\n",
    "\n",
    "- Wrap-up y próximos pasos (5 min)\n"
   ]
  },
  {
   "cell_type": "markdown",
   "id": "727f3953",
   "metadata": {},
   "source": [
    "## 0. Configuración del Entorno\n"
   ]
  },
  {
   "cell_type": "markdown",
   "id": "b27da471",
   "metadata": {},
   "source": [
    "### Configuración Local\n",
    "\n",
    "Esta sección te guía para configurar un entorno Python aislado para el tutorial. Usamos **uv**, una herramienta moderna que es mucho más rápida que `pip` + `venv` tradicional.\n",
    "\n",
    "> **¿Por qué un entorno virtual?** Aísla las dependencias del proyecto para evitar conflictos con otras instalaciones de Python en tu sistema.\n",
    "\n",
    "#### Paso 1: Instalar `uv`\n",
    "\n",
    "**macOS / Linux:**\n",
    "```bash\n",
    "curl -LsSf https://astral.sh/uv/install.sh | sh\n",
    "export PATH=\"$HOME/.local/bin:$PATH\"\n",
    "```\n",
    "\n",
    "**Windows (PowerShell):**\n",
    "```powershell\n",
    "iwr https://astral.sh/uv/install.ps1 -UseBasicParsing | iex\n",
    "```\n",
    "\n",
    "**Verificar instalación:**\n",
    "```bash\n",
    "uv --version\n",
    "```\n",
    "\n",
    "#### Paso 2: Crear entorno virtual\n",
    "\n",
    "```bash\n",
    "cd /ruta/a/tu/proyecto\n",
    "uv venv .pycon-mostlyai\n",
    "```\n",
    "\n",
    "#### Paso 3: Activar entorno virtual\n",
    "\n",
    "**macOS / Linux:**\n",
    "```bash\n",
    "source .pycon-mostlyai/bin/activate\n",
    "```\n",
    "\n",
    "**Windows (PowerShell):**\n",
    "```powershell\n",
    ".\\.pycon-mostlyai\\Scripts\\Activate.ps1\n",
    "```\n",
    "\n",
    "> **Indicador de éxito:** Deberías ver `(.pycon-mostlyai)` al inicio de tu prompt de terminal.\n",
    "\n",
    "#### Paso 4: Instalar dependencias\n",
    "\n",
    "```bash\n",
    "uv pip install -U \"mostlyai[local]\" jupyter ipykernel scikit-learn\n",
    "```\n",
    "\n",
    "> **¿Qué instala esto?**\n",
    "> - `mostlyai[local]`: SDK de MostlyAI con todas las dependencias para modo local\n",
    "> - `jupyter`: Para ejecutar notebooks\n",
    "> - `ipykernel`: Para conectar el entorno con Jupyter\n",
    "> - `scikit-learn`: Para los ejemplos de ML\n",
    "\n",
    "#### Paso 5: Registrar como kernel de Jupyter\n",
    "\n",
    "```bash\n",
    "python -m ipykernel install --user --name pycon-mostlyai --display-name \"Python (PyCon-MostlyAI)\"\n",
    "```\n",
    "\n",
    "> **¿Por qué esto?** Permite que Jupyter use este entorno específico en lugar del Python del sistema.\n",
    "\n",
    "#### Paso 6: Ejecutar Jupyter Lab\n",
    "\n",
    "```bash\n",
    "uv run jupyter lab\n",
    "```\n",
    "\n",
    "#### Verificación Final\n",
    "\n",
    "1. **Jupyter Lab se abre** en tu navegador (generalmente en `http://localhost:8888`)\n",
    "2. **Selecciona el kernel correcto:** En Jupyter, ve a **Kernel → Change Kernel → Python (PyCon-MostlyAI)**\n",
    "3. **Prueba la importación:** Ejecuta la primera celda de código del notebook\n",
    "\n",
    "#### Comandos útiles\n",
    "\n",
    "```bash\n",
    "deactivate\n",
    "\n",
    "source .pycon-mostlyai/bin/activate\n",
    "\n",
    "rm -rf .pycon-mostlyai\n",
    "```\n"
   ]
  },
  {
   "cell_type": "markdown",
   "id": "2d5edee4",
   "metadata": {},
   "source": [
    "### En Google Colab:\n"
   ]
  },
  {
   "cell_type": "code",
   "execution_count": 3,
   "id": "884dc2b1",
   "metadata": {},
   "outputs": [
    {
     "name": "stdout",
     "output_type": "stream",
     "text": [
      "/Users/felipe/Documents/repos/sdk_tutorial/.pycon-mostlyai/bin/python: No module named pip\n",
      "Note: you may need to restart the kernel to use updated packages.\n"
     ]
    }
   ],
   "source": [
    "%pip install -U \"mostlyai[local]\" scikit-learn -q\n"
   ]
  },
  {
   "cell_type": "markdown",
   "id": "4d27abd6",
   "metadata": {},
   "source": [
    "### Imports y configuración inicial\n",
    "\n"
   ]
  },
  {
   "cell_type": "code",
   "execution_count": 1,
   "id": "4244b720",
   "metadata": {},
   "outputs": [
    {
     "data": {
      "text/html": [
       "<pre style=\"white-space:pre;overflow-x:auto;line-height:normal;font-family:Menlo,'DejaVu Sans Mono',consolas,'Courier New',monospace\">Initializing <span style=\"font-weight: bold\">Synthetic Data SDK</span> <span style=\"color: #008080; text-decoration-color: #008080; font-weight: bold\">5.2</span>.<span style=\"color: #008080; text-decoration-color: #008080; font-weight: bold\">7</span> in <span style=\"font-weight: bold\">LOCAL mode</span> 🏠\n",
       "</pre>\n"
      ],
      "text/plain": [
       "Initializing \u001b[1mSynthetic Data SDK\u001b[0m \u001b[1;36m5.2\u001b[0m.\u001b[1;36m7\u001b[0m in \u001b[1mLOCAL mode\u001b[0m 🏠\n"
      ]
     },
     "metadata": {},
     "output_type": "display_data"
    },
    {
     "data": {
      "text/html": [
       "<pre style=\"white-space:pre;overflow-x:auto;line-height:normal;font-family:Menlo,'DejaVu Sans Mono',consolas,'Courier New',monospace\">Connected to <a href=\"file:///Users/felipe/mostlyai\" target=\"_blank\"><span style=\"color: #005fff; text-decoration-color: #005fff; text-decoration: underline\">/Users/felipe/mostlyai</span></a> with <span style=\"color: #008080; text-decoration-color: #008080; font-weight: bold\">36</span> GB RAM, <span style=\"color: #008080; text-decoration-color: #008080; font-weight: bold\">14</span> CPUs, <span style=\"color: #008080; text-decoration-color: #008080; font-weight: bold\">0</span> GPUs available\n",
       "</pre>\n"
      ],
      "text/plain": [
       "Connected to \u001b]8;id=531888;file:///Users/felipe/mostlyai\u001b\\\u001b[4;38;5;27m/Users/felipe/\u001b[0m\u001b]8;;\u001b\\\u001b]8;id=748342;file:///Users/felipe/mostlyai\u001b\\\u001b[4;38;5;27mmostlyai\u001b[0m\u001b]8;;\u001b\\ with \u001b[1;36m36\u001b[0m GB RAM, \u001b[1;36m14\u001b[0m CPUs, \u001b[1;36m0\u001b[0m GPUs available\n"
      ]
     },
     "metadata": {},
     "output_type": "display_data"
    },
    {
     "name": "stdout",
     "output_type": "stream",
     "text": [
      "✅ Setup completo!\n"
     ]
    },
    {
     "name": "stderr",
     "output_type": "stream",
     "text": [
      "ERROR:    Exception in ASGI application\n",
      "Traceback (most recent call last):\n",
      "  File \"/Users/felipe/Documents/repos/sdk_tutorial/.pycon-mostlyai/lib/python3.12/site-packages/uvicorn/protocols/http/h11_impl.py\", line 403, in run_asgi\n",
      "    result = await app(  # type: ignore[func-returns-value]\n",
      "             ^^^^^^^^^^^^^^^^^^^^^^^^^^^^^^^^^^^^^^^^^^^^^^\n",
      "  File \"/Users/felipe/Documents/repos/sdk_tutorial/.pycon-mostlyai/lib/python3.12/site-packages/uvicorn/middleware/proxy_headers.py\", line 60, in __call__\n",
      "    return await self.app(scope, receive, send)\n",
      "           ^^^^^^^^^^^^^^^^^^^^^^^^^^^^^^^^^^^^\n",
      "  File \"/Users/felipe/Documents/repos/sdk_tutorial/.pycon-mostlyai/lib/python3.12/site-packages/fastapi/applications.py\", line 1054, in __call__\n",
      "    await super().__call__(scope, receive, send)\n",
      "  File \"/Users/felipe/Documents/repos/sdk_tutorial/.pycon-mostlyai/lib/python3.12/site-packages/starlette/applications.py\", line 112, in __call__\n",
      "    await self.middleware_stack(scope, receive, send)\n",
      "  File \"/Users/felipe/Documents/repos/sdk_tutorial/.pycon-mostlyai/lib/python3.12/site-packages/starlette/middleware/errors.py\", line 177, in __call__\n",
      "    response = await self.handler(request, exc)\n",
      "               ^^^^^^^^^^^^^^^^^^^^^^^^^^^^^^^^\n",
      "  File \"/Users/felipe/Documents/repos/sdk_tutorial/.pycon-mostlyai/lib/python3.12/site-packages/mostlyai/sdk/_local/server.py\", line 130, in global_exception_handler\n",
      "    raise exc\n",
      "  File \"/Users/felipe/Documents/repos/sdk_tutorial/.pycon-mostlyai/lib/python3.12/site-packages/starlette/middleware/errors.py\", line 165, in __call__\n",
      "    await self.app(scope, receive, _send)\n",
      "  File \"/Users/felipe/Documents/repos/sdk_tutorial/.pycon-mostlyai/lib/python3.12/site-packages/starlette/middleware/exceptions.py\", line 62, in __call__\n",
      "    await wrap_app_handling_exceptions(self.app, conn)(scope, receive, send)\n",
      "  File \"/Users/felipe/Documents/repos/sdk_tutorial/.pycon-mostlyai/lib/python3.12/site-packages/starlette/_exception_handler.py\", line 53, in wrapped_app\n",
      "    raise exc\n",
      "  File \"/Users/felipe/Documents/repos/sdk_tutorial/.pycon-mostlyai/lib/python3.12/site-packages/starlette/_exception_handler.py\", line 42, in wrapped_app\n",
      "    await app(scope, receive, sender)\n",
      "  File \"/Users/felipe/Documents/repos/sdk_tutorial/.pycon-mostlyai/lib/python3.12/site-packages/starlette/routing.py\", line 714, in __call__\n",
      "    await self.middleware_stack(scope, receive, send)\n",
      "  File \"/Users/felipe/Documents/repos/sdk_tutorial/.pycon-mostlyai/lib/python3.12/site-packages/starlette/routing.py\", line 734, in app\n",
      "    await route.handle(scope, receive, send)\n",
      "  File \"/Users/felipe/Documents/repos/sdk_tutorial/.pycon-mostlyai/lib/python3.12/site-packages/starlette/routing.py\", line 288, in handle\n",
      "    await self.app(scope, receive, send)\n",
      "  File \"/Users/felipe/Documents/repos/sdk_tutorial/.pycon-mostlyai/lib/python3.12/site-packages/starlette/routing.py\", line 76, in app\n",
      "    await wrap_app_handling_exceptions(app, request)(scope, receive, send)\n",
      "  File \"/Users/felipe/Documents/repos/sdk_tutorial/.pycon-mostlyai/lib/python3.12/site-packages/starlette/_exception_handler.py\", line 53, in wrapped_app\n",
      "    raise exc\n",
      "  File \"/Users/felipe/Documents/repos/sdk_tutorial/.pycon-mostlyai/lib/python3.12/site-packages/starlette/_exception_handler.py\", line 42, in wrapped_app\n",
      "    await app(scope, receive, sender)\n",
      "  File \"/Users/felipe/Documents/repos/sdk_tutorial/.pycon-mostlyai/lib/python3.12/site-packages/starlette/routing.py\", line 73, in app\n",
      "    response = await f(request)\n",
      "               ^^^^^^^^^^^^^^^^\n",
      "  File \"/Users/felipe/Documents/repos/sdk_tutorial/.pycon-mostlyai/lib/python3.12/site-packages/fastapi/routing.py\", line 301, in app\n",
      "    raw_response = await run_endpoint_function(\n",
      "                   ^^^^^^^^^^^^^^^^^^^^^^^^^^^^\n",
      "  File \"/Users/felipe/Documents/repos/sdk_tutorial/.pycon-mostlyai/lib/python3.12/site-packages/fastapi/routing.py\", line 212, in run_endpoint_function\n",
      "    return await dependant.call(**values)\n",
      "           ^^^^^^^^^^^^^^^^^^^^^^^^^^^^^^\n",
      "  File \"/Users/felipe/Documents/repos/sdk_tutorial/.pycon-mostlyai/lib/python3.12/site-packages/mostlyai/sdk/_local/routes.py\", line 594, in create_synthetic_dataset\n",
      "    synthetic_dataset = synthetic_datasets.create_synthetic_dataset(self.home_dir, config)\n",
      "                        ^^^^^^^^^^^^^^^^^^^^^^^^^^^^^^^^^^^^^^^^^^^^^^^^^^^^^^^^^^^^^^^^^^\n",
      "  File \"/Users/felipe/Documents/repos/sdk_tutorial/.pycon-mostlyai/lib/python3.12/site-packages/mostlyai/sdk/_local/synthetic_datasets.py\", line 83, in create_synthetic_dataset\n",
      "    config.validate_against_generator(generator)\n",
      "  File \"/Users/felipe/Documents/repos/sdk_tutorial/.pycon-mostlyai/lib/python3.12/site-packages/mostlyai/sdk/domain.py\", line 3351, in validate_against_generator\n",
      "    _SyntheticDataConfigValidation(synthetic_config=self, generator=generator)\n",
      "  File \"/Users/felipe/Documents/repos/sdk_tutorial/.pycon-mostlyai/lib/python3.12/site-packages/pydantic/main.py\", line 250, in __init__\n",
      "    validated_self = self.__pydantic_validator__.validate_python(data, self_instance=self)\n",
      "                     ^^^^^^^^^^^^^^^^^^^^^^^^^^^^^^^^^^^^^^^^^^^^^^^^^^^^^^^^^^^^^^^^^^^^^\n",
      "  File \"/Users/felipe/Documents/repos/sdk_tutorial/.pycon-mostlyai/lib/python3.12/site-packages/mostlyai/sdk/domain.py\", line 4125, in add_missing_tables\n",
      "    generator_table_map = {t.name: t for t in validation.generator.tables}\n",
      "                                              ^^^^^^^^^^^^^^^^^^^^\n",
      "AttributeError: 'pydantic_core._pydantic_core.ValidationInfo' object has no attribute 'generator'\n"
     ]
    }
   ],
   "source": [
    "import pandas as pd\n",
    "import numpy as np\n",
    "import matplotlib.pyplot as plt\n",
    "from mostlyai.sdk import MostlyAI\n",
    "\n",
    "plt.style.use('default')\n",
    "plt.rcParams['figure.figsize'] = (12, 6)\n",
    "\n",
    "mostly = MostlyAI(local=True)\n",
    "np.random.seed(42)\n",
    "\n",
    "print(\"✅ Setup completo!\")\n"
   ]
  },
  {
   "cell_type": "markdown",
   "id": "a7b40f96",
   "metadata": {},
   "source": [
    "## 1. El Problema: Reidentificación (12 min)\n",
    "\n",
    "### 🎯 Escenario\n",
    "Trabajas en RRHH y necesitas compartir datos salariales con una consultora para un análisis de brecha salarial.\n",
    "\n",
    "Eliminas los nombres y piensas: *\"Ya está anonimizado\"*\n",
    "\n",
    "**¿Es suficiente?** 🤔\n"
   ]
  },
  {
   "cell_type": "markdown",
   "id": "dc692fae",
   "metadata": {},
   "source": [
    "### Cargar el dataset Census\n"
   ]
  },
  {
   "cell_type": "code",
   "execution_count": 2,
   "id": "7fce9f76",
   "metadata": {},
   "outputs": [
    {
     "name": "stdout",
     "output_type": "stream",
     "text": [
      "Dataset: 48,842 registros, 15 columnas\n",
      "\n",
      "Columnas: ['age', 'workclass', 'fnlwgt', 'education', 'education_num', 'marital_status', 'occupation', 'relationship', 'race', 'sex', 'capital_gain', 'capital_loss', 'hours_per_week', 'native_country', 'income']\n"
     ]
    },
    {
     "data": {
      "text/html": [
       "<div>\n",
       "<style scoped>\n",
       "    .dataframe tbody tr th:only-of-type {\n",
       "        vertical-align: middle;\n",
       "    }\n",
       "\n",
       "    .dataframe tbody tr th {\n",
       "        vertical-align: top;\n",
       "    }\n",
       "\n",
       "    .dataframe thead th {\n",
       "        text-align: right;\n",
       "    }\n",
       "</style>\n",
       "<table border=\"1\" class=\"dataframe\">\n",
       "  <thead>\n",
       "    <tr style=\"text-align: right;\">\n",
       "      <th></th>\n",
       "      <th>age</th>\n",
       "      <th>workclass</th>\n",
       "      <th>fnlwgt</th>\n",
       "      <th>education</th>\n",
       "      <th>education_num</th>\n",
       "      <th>marital_status</th>\n",
       "      <th>occupation</th>\n",
       "      <th>relationship</th>\n",
       "      <th>race</th>\n",
       "      <th>sex</th>\n",
       "      <th>capital_gain</th>\n",
       "      <th>capital_loss</th>\n",
       "      <th>hours_per_week</th>\n",
       "      <th>native_country</th>\n",
       "      <th>income</th>\n",
       "    </tr>\n",
       "  </thead>\n",
       "  <tbody>\n",
       "    <tr>\n",
       "      <th>0</th>\n",
       "      <td>39</td>\n",
       "      <td>State-gov</td>\n",
       "      <td>77516</td>\n",
       "      <td>Bachelors</td>\n",
       "      <td>13</td>\n",
       "      <td>Never-married</td>\n",
       "      <td>Adm-clerical</td>\n",
       "      <td>Not-in-family</td>\n",
       "      <td>White</td>\n",
       "      <td>Male</td>\n",
       "      <td>2174</td>\n",
       "      <td>0</td>\n",
       "      <td>40</td>\n",
       "      <td>United-States</td>\n",
       "      <td>&lt;=50K</td>\n",
       "    </tr>\n",
       "    <tr>\n",
       "      <th>1</th>\n",
       "      <td>50</td>\n",
       "      <td>Self-emp-not-inc</td>\n",
       "      <td>83311</td>\n",
       "      <td>Bachelors</td>\n",
       "      <td>13</td>\n",
       "      <td>Married-civ-spouse</td>\n",
       "      <td>Exec-managerial</td>\n",
       "      <td>Husband</td>\n",
       "      <td>White</td>\n",
       "      <td>Male</td>\n",
       "      <td>0</td>\n",
       "      <td>0</td>\n",
       "      <td>13</td>\n",
       "      <td>United-States</td>\n",
       "      <td>&lt;=50K</td>\n",
       "    </tr>\n",
       "    <tr>\n",
       "      <th>2</th>\n",
       "      <td>38</td>\n",
       "      <td>Private</td>\n",
       "      <td>215646</td>\n",
       "      <td>HS-grad</td>\n",
       "      <td>9</td>\n",
       "      <td>Divorced</td>\n",
       "      <td>Handlers-cleaners</td>\n",
       "      <td>Not-in-family</td>\n",
       "      <td>White</td>\n",
       "      <td>Male</td>\n",
       "      <td>0</td>\n",
       "      <td>0</td>\n",
       "      <td>40</td>\n",
       "      <td>United-States</td>\n",
       "      <td>&lt;=50K</td>\n",
       "    </tr>\n",
       "    <tr>\n",
       "      <th>3</th>\n",
       "      <td>53</td>\n",
       "      <td>Private</td>\n",
       "      <td>234721</td>\n",
       "      <td>11th</td>\n",
       "      <td>7</td>\n",
       "      <td>Married-civ-spouse</td>\n",
       "      <td>Handlers-cleaners</td>\n",
       "      <td>Husband</td>\n",
       "      <td>Black</td>\n",
       "      <td>Male</td>\n",
       "      <td>0</td>\n",
       "      <td>0</td>\n",
       "      <td>40</td>\n",
       "      <td>United-States</td>\n",
       "      <td>&lt;=50K</td>\n",
       "    </tr>\n",
       "    <tr>\n",
       "      <th>4</th>\n",
       "      <td>28</td>\n",
       "      <td>Private</td>\n",
       "      <td>338409</td>\n",
       "      <td>Bachelors</td>\n",
       "      <td>13</td>\n",
       "      <td>Married-civ-spouse</td>\n",
       "      <td>Prof-specialty</td>\n",
       "      <td>Wife</td>\n",
       "      <td>Black</td>\n",
       "      <td>Female</td>\n",
       "      <td>0</td>\n",
       "      <td>0</td>\n",
       "      <td>40</td>\n",
       "      <td>Cuba</td>\n",
       "      <td>&lt;=50K</td>\n",
       "    </tr>\n",
       "  </tbody>\n",
       "</table>\n",
       "</div>"
      ],
      "text/plain": [
       "   age         workclass  fnlwgt  education  education_num  \\\n",
       "0   39         State-gov   77516  Bachelors             13   \n",
       "1   50  Self-emp-not-inc   83311  Bachelors             13   \n",
       "2   38           Private  215646    HS-grad              9   \n",
       "3   53           Private  234721       11th              7   \n",
       "4   28           Private  338409  Bachelors             13   \n",
       "\n",
       "       marital_status         occupation   relationship   race     sex  \\\n",
       "0       Never-married       Adm-clerical  Not-in-family  White    Male   \n",
       "1  Married-civ-spouse    Exec-managerial        Husband  White    Male   \n",
       "2            Divorced  Handlers-cleaners  Not-in-family  White    Male   \n",
       "3  Married-civ-spouse  Handlers-cleaners        Husband  Black    Male   \n",
       "4  Married-civ-spouse     Prof-specialty           Wife  Black  Female   \n",
       "\n",
       "   capital_gain  capital_loss  hours_per_week native_country income  \n",
       "0          2174             0              40  United-States  <=50K  \n",
       "1             0             0              13  United-States  <=50K  \n",
       "2             0             0              40  United-States  <=50K  \n",
       "3             0             0              40  United-States  <=50K  \n",
       "4             0             0              40           Cuba  <=50K  "
      ]
     },
     "execution_count": 2,
     "metadata": {},
     "output_type": "execute_result"
    }
   ],
   "source": [
    "url = \"https://github.com/mostly-ai/public-demo-data/raw/dev/census/census.csv.gz\"\n",
    "census = pd.read_csv(url)\n",
    "\n",
    "print(f\"Dataset: {census.shape[0]:,} registros, {census.shape[1]} columnas\")\n",
    "print(f\"\\nColumnas: {list(census.columns)}\")\n",
    "census.head()\n"
   ]
  },
  {
   "cell_type": "markdown",
   "id": "5a145f0a",
   "metadata": {
    "vscode": {
     "languageId": "raw"
    }
   },
   "source": [
    "### ¿Qué es el dataset US Census Income?\n",
    "\n",
    "El **US Census Income Dataset** (también conocido como \"Adult\" dataset) es un conjunto de datos extraído del censo estadounidense de 1994. Este dataset es ampliamente utilizado en machine learning para tareas de clasificación.\n",
    "\n",
    "**Objetivo principal:** Predecir si una persona gana más o menos de $50,000 al año basándose en características demográficas, educativas y laborales.\n",
    "\n",
    "**Características del dataset:**\n",
    "- 📊 Aproximadamente 48,000 registros de personas adultas\n",
    "- 🏛️ Fuente: US Census Bureau (1994)\n",
    "- 🎯 Tarea: Clasificación binaria de nivel de ingresos\n",
    "- 🔍 Uso común: Estudios de inequidad salarial, brecha de género, y análisis socioeconómico\n",
    "\n",
    "**¿Por qué lo usamos en este workshop?**\n",
    "- Es un dataset **realista** con información sensible (ingresos, demografía)\n",
    "- Perfecto para demostrar **riesgos de reidentificación**\n",
    "- Útil para mostrar cómo los **datos sintéticos preservan utilidad** para análisis de ML\n"
   ]
  },
  {
   "cell_type": "markdown",
   "id": "db83e826",
   "metadata": {
    "vscode": {
     "languageId": "raw"
    }
   },
   "source": [
    "### Descripción de las columnas\n",
    "\n",
    "**Variables demográficas:**\n",
    "- `age`: Edad de la persona\n",
    "- `sex`: Género (Male/Female)\n",
    "- `race`: Raza/etnia\n",
    "- `native_country`: País de nacimiento\n",
    "\n",
    "**Variables educativas:**\n",
    "- `education`: Nivel educativo alcanzado (Bachelors, Masters, Doctorate, etc.)\n",
    "- `education_num`: Nivel educativo codificado como número (mayor = más educación)\n",
    "\n",
    "**Variables laborales:**\n",
    "- `workclass`: Sector laboral (Private, Government, Self-employed, etc.)\n",
    "- `occupation`: Tipo de ocupación (Tech-support, Craft-repair, Sales, etc.)\n",
    "- `hours_per_week`: Horas trabajadas por semana\n",
    "\n",
    "**Variables familiares:**\n",
    "- `marital_status`: Estado civil (Married, Divorced, Single, etc.)\n",
    "- `relationship`: Rol en la familia (Husband, Wife, Own-child, etc.)\n",
    "\n",
    "**Variables financieras:**\n",
    "- `capital_gain`: Ganancias de capital (inversiones, propiedades)\n",
    "- `capital_loss`: Pérdidas de capital\n",
    "- `fnlwgt`: Factor de peso en el muestreo del censo (representa cuántas personas del censo representa este registro)\n",
    "\n",
    "**Variable objetivo:**\n",
    "- `income`: Nivel de ingresos (>50K o <=50K por año)\n"
   ]
  },
  {
   "cell_type": "code",
   "execution_count": 3,
   "id": "bac4a28e",
   "metadata": {},
   "outputs": [
    {
     "data": {
      "text/html": [
       "<div>\n",
       "<style scoped>\n",
       "    .dataframe tbody tr th:only-of-type {\n",
       "        vertical-align: middle;\n",
       "    }\n",
       "\n",
       "    .dataframe tbody tr th {\n",
       "        vertical-align: top;\n",
       "    }\n",
       "\n",
       "    .dataframe thead th {\n",
       "        text-align: right;\n",
       "    }\n",
       "</style>\n",
       "<table border=\"1\" class=\"dataframe\">\n",
       "  <thead>\n",
       "    <tr style=\"text-align: right;\">\n",
       "      <th></th>\n",
       "      <th>age</th>\n",
       "      <th>fnlwgt</th>\n",
       "      <th>education_num</th>\n",
       "      <th>capital_gain</th>\n",
       "      <th>capital_loss</th>\n",
       "      <th>hours_per_week</th>\n",
       "    </tr>\n",
       "  </thead>\n",
       "  <tbody>\n",
       "    <tr>\n",
       "      <th>count</th>\n",
       "      <td>48842.000000</td>\n",
       "      <td>4.884200e+04</td>\n",
       "      <td>48842.000000</td>\n",
       "      <td>48842.000000</td>\n",
       "      <td>48842.000000</td>\n",
       "      <td>48842.000000</td>\n",
       "    </tr>\n",
       "    <tr>\n",
       "      <th>mean</th>\n",
       "      <td>38.643585</td>\n",
       "      <td>1.896641e+05</td>\n",
       "      <td>10.078089</td>\n",
       "      <td>1079.067626</td>\n",
       "      <td>87.502314</td>\n",
       "      <td>40.422382</td>\n",
       "    </tr>\n",
       "    <tr>\n",
       "      <th>std</th>\n",
       "      <td>13.710510</td>\n",
       "      <td>1.056040e+05</td>\n",
       "      <td>2.570973</td>\n",
       "      <td>7452.019058</td>\n",
       "      <td>403.004552</td>\n",
       "      <td>12.391444</td>\n",
       "    </tr>\n",
       "    <tr>\n",
       "      <th>min</th>\n",
       "      <td>17.000000</td>\n",
       "      <td>1.228500e+04</td>\n",
       "      <td>1.000000</td>\n",
       "      <td>0.000000</td>\n",
       "      <td>0.000000</td>\n",
       "      <td>1.000000</td>\n",
       "    </tr>\n",
       "    <tr>\n",
       "      <th>25%</th>\n",
       "      <td>28.000000</td>\n",
       "      <td>1.175505e+05</td>\n",
       "      <td>9.000000</td>\n",
       "      <td>0.000000</td>\n",
       "      <td>0.000000</td>\n",
       "      <td>40.000000</td>\n",
       "    </tr>\n",
       "    <tr>\n",
       "      <th>50%</th>\n",
       "      <td>37.000000</td>\n",
       "      <td>1.781445e+05</td>\n",
       "      <td>10.000000</td>\n",
       "      <td>0.000000</td>\n",
       "      <td>0.000000</td>\n",
       "      <td>40.000000</td>\n",
       "    </tr>\n",
       "    <tr>\n",
       "      <th>75%</th>\n",
       "      <td>48.000000</td>\n",
       "      <td>2.376420e+05</td>\n",
       "      <td>12.000000</td>\n",
       "      <td>0.000000</td>\n",
       "      <td>0.000000</td>\n",
       "      <td>45.000000</td>\n",
       "    </tr>\n",
       "    <tr>\n",
       "      <th>max</th>\n",
       "      <td>90.000000</td>\n",
       "      <td>1.490400e+06</td>\n",
       "      <td>16.000000</td>\n",
       "      <td>99999.000000</td>\n",
       "      <td>4356.000000</td>\n",
       "      <td>99.000000</td>\n",
       "    </tr>\n",
       "  </tbody>\n",
       "</table>\n",
       "</div>"
      ],
      "text/plain": [
       "                age        fnlwgt  education_num  capital_gain  capital_loss  \\\n",
       "count  48842.000000  4.884200e+04   48842.000000  48842.000000  48842.000000   \n",
       "mean      38.643585  1.896641e+05      10.078089   1079.067626     87.502314   \n",
       "std       13.710510  1.056040e+05       2.570973   7452.019058    403.004552   \n",
       "min       17.000000  1.228500e+04       1.000000      0.000000      0.000000   \n",
       "25%       28.000000  1.175505e+05       9.000000      0.000000      0.000000   \n",
       "50%       37.000000  1.781445e+05      10.000000      0.000000      0.000000   \n",
       "75%       48.000000  2.376420e+05      12.000000      0.000000      0.000000   \n",
       "max       90.000000  1.490400e+06      16.000000  99999.000000   4356.000000   \n",
       "\n",
       "       hours_per_week  \n",
       "count    48842.000000  \n",
       "mean        40.422382  \n",
       "std         12.391444  \n",
       "min          1.000000  \n",
       "25%         40.000000  \n",
       "50%         40.000000  \n",
       "75%         45.000000  \n",
       "max         99.000000  "
      ]
     },
     "execution_count": 3,
     "metadata": {},
     "output_type": "execute_result"
    }
   ],
   "source": [
    "census.describe()\n"
   ]
  },
  {
   "cell_type": "markdown",
   "id": "9e175f1e",
   "metadata": {},
   "source": [
    "### Demo de Reidentificación\n",
    "\n",
    "Imagina que conoces a alguien con estas características:\n",
    "- Mujer\n",
    "- PhD (Doctorado)\n",
    "- Ejecutiva\n",
    "- 49 años\n",
    "- Gana >50K\n",
    "\n",
    "**¿Podemos encontrarla en el dataset \"anonimizado\"?**\n"
   ]
  },
  {
   "cell_type": "code",
   "execution_count": 4,
   "id": "ed6fab74",
   "metadata": {},
   "outputs": [
    {
     "name": "stdout",
     "output_type": "stream",
     "text": [
      "🔍 DEMO: REIDENTIFICACIÓN\n",
      "============================================================\n",
      "\n",
      "Buscando: Mujer, PhD, ejecutiva, 49 años, >50K\n",
      "Candidatos encontrados: 1\n",
      "\n",
      "⚠️  ¡FÁCILMENTE IDENTIFICABLE!\n",
      "Con información pública (LinkedIn, redes) → identificación completa\n",
      "\n",
      "Ejemplo de registro identificable:\n",
      "age                            49\n",
      "education               Doctorate\n",
      "occupation        Exec-managerial\n",
      "hours_per_week                 50\n",
      "income                       >50K\n",
      "Name: 28173, dtype: object\n"
     ]
    }
   ],
   "source": [
    "print(\"🔍 DEMO: REIDENTIFICACIÓN\")\n",
    "print(\"=\"*60)\n",
    "\n",
    "candidatos = census[\n",
    "    (census['sex'] == 'Female') &\n",
    "    (census['education'] == 'Doctorate') &\n",
    "    (census['age'] == 49) &\n",
    "    (census['occupation'] == 'Exec-managerial') &\n",
    "    (census['income'] == '>50K')\n",
    "]\n",
    "\n",
    "print(f\"\\nBuscando: Mujer, PhD, ejecutiva, 49 años, >50K\")\n",
    "print(f\"Candidatos encontrados: {len(candidatos)}\")\n",
    "\n",
    "if len(candidatos) <= 3:\n",
    "    print(\"\\n⚠️  ¡FÁCILMENTE IDENTIFICABLE!\")\n",
    "    print(\"Con información pública (LinkedIn, redes) → identificación completa\")\n",
    "    if len(candidatos) > 0:\n",
    "        print(\"\\nEjemplo de registro identificable:\")\n",
    "        print(candidatos.iloc[0][['age', 'education', 'occupation', 'hours_per_week', 'income']])\n"
   ]
  },
  {
   "cell_type": "markdown",
   "id": "8dedb0a9",
   "metadata": {
    "vscode": {
     "languageId": "raw"
    }
   },
   "source": [
    "### 💡 Tu turno: Intenta reidentificar\n",
    "\n",
    "**Tarea:** Piensa en un perfil que podría ser único y trata de encontrarlo en el dataset.\n",
    "\n",
    "**Ideas de perfiles a buscar:**\n",
    "- Hombre joven (20-25 años) con Doctorado trabajando en Tech-support\n",
    "- Persona de >60 años con Masters trabajando muchas horas (>60 horas/semana)\n",
    "- Alguien con alta educación pero ingresos bajos\n",
    "- Persona de un país poco común (`native_country`) con características específicas\n",
    "\n",
    "**Pistas para conseguir reidentificación:**\n",
    "- Combina 3-4 características diferentes\n",
    "- Usa valores \"raros\" o poco comunes\n",
    "- Prueba con combinaciones que sean poco probables\n",
    "\n",
    "**Objetivo:** Encontrar menos de 5 candidatos (idealmente 1-3) para demostrar el riesgo de reidentificación.\n",
    "\n",
    "Usa la celda de abajo para tu código:\n"
   ]
  },
  {
   "cell_type": "code",
   "execution_count": 5,
   "id": "acc76bdb",
   "metadata": {},
   "outputs": [
    {
     "name": "stdout",
     "output_type": "stream",
     "text": [
      "🔍 TU INTENTO DE REIDENTIFICACIÓN\n",
      "============================================================\n",
      "\n",
      "Buscando: [Describe tu búsqueda aquí]\n",
      "Candidatos encontrados: 48842\n",
      "\n",
      "❌ Demasiados candidatos. Intenta ser más específico.\n",
      "💡 Tip: Añade más condiciones o usa características más raras\n"
     ]
    }
   ],
   "source": [
    "print(\"🔍 TU INTENTO DE REIDENTIFICACIÓN\")\n",
    "print(\"=\"*60)\n",
    "\n",
    "mi_busqueda = census[\n",
    "    (census['age'] > 0)\n",
    "]\n",
    "\n",
    "print(f\"\\nBuscando: [Describe tu búsqueda aquí]\")\n",
    "print(f\"Candidatos encontrados: {len(mi_busqueda)}\")\n",
    "\n",
    "if len(mi_busqueda) <= 5:\n",
    "    print(\"\\n⚠️  ¡POTENCIALMENTE IDENTIFICABLE!\")\n",
    "    if len(mi_busqueda) > 0:\n",
    "        print(\"\\nPrimeros registros encontrados:\")\n",
    "        print(mi_busqueda.head())\n",
    "else:\n",
    "    print(f\"\\n❌ Demasiados candidatos. Intenta ser más específico.\")\n",
    "    print(\"💡 Tip: Añade más condiciones o usa características más raras\")\n"
   ]
  },
  {
   "cell_type": "markdown",
   "id": "7f0e7472",
   "metadata": {},
   "source": [
    "### Análisis de riesgo general\n"
   ]
  },
  {
   "cell_type": "code",
   "execution_count": 6,
   "id": "acf2ddd8",
   "metadata": {},
   "outputs": [
    {
     "name": "stdout",
     "output_type": "stream",
     "text": [
      "📊 ANÁLISIS DE RIESGO GENERAL\n",
      "============================================================\n",
      "\n",
      "Combinaciones únicas: 3,799 de 48,842\n",
      "Porcentaje de registros únicos: 7.8%\n",
      "\n",
      "🚨 CONCLUSIÓN:\n",
      "   • Miles de personas son identificables con solo 4 características\n",
      "   • Anonimización tradicional NO funciona\n",
      "   • Necesitamos una solución mejor: DATOS SINTÉTICOS\n"
     ]
    }
   ],
   "source": [
    "print(\"📊 ANÁLISIS DE RIESGO GENERAL\")\n",
    "print(\"=\"*60)\n",
    "\n",
    "combos = census.groupby(['sex', 'education', 'occupation', 'age']).size()\n",
    "unicos = combos[combos == 1]\n",
    "\n",
    "print(f\"\\nCombinaciones únicas: {len(unicos):,} de {len(census):,}\")\n",
    "print(f\"Porcentaje de registros únicos: {len(unicos)/len(census)*100:.1f}%\")\n",
    "\n",
    "print(\"\\n🚨 CONCLUSIÓN:\")\n",
    "print(\"   • Miles de personas son identificables con solo 4 características\")\n",
    "print(\"   • Anonimización tradicional NO funciona\")\n",
    "print(\"   • Necesitamos una solución mejor: DATOS SINTÉTICOS\")\n"
   ]
  },
  {
   "cell_type": "markdown",
   "id": "15a7de77",
   "metadata": {},
   "source": [
    "### Casos reales de reidentificación\n",
    "\n",
    "**Ejemplos históricos:**\n",
    "\n",
    "- **AOL Search Data (2006)**: 650,000 usuarios \"anonimizados\" → periodistas identificaron individuos por sus búsquedas\n",
    "  - 📰 [New York Times: A Face Is Exposed for AOL Searcher No. 4417749](https://www.nytimes.com/2006/08/09/technology/09aol.html)\n",
    "  - 📰 [Wikipedia: AOL search data leak](https://en.wikipedia.org/wiki/AOL_search_data_leak)\n",
    "\n",
    "- **Netflix Prize (2007)**: Dataset \"anonimizado\" → investigadores reidentificaron usuarios cruzando con IMDB\n",
    "  - 📄 [Paper original: Robust De-anonymization of Large Sparse Datasets](https://www.cs.cornell.edu/~shmat/shmat_oak08netflix.pdf)\n",
    "  - 📰 [The Atlantic: How Netflix Reverse Engineered Hollywood](https://www.theatlantic.com/technology/archive/2014/01/how-netflix-reverse-engineered-hollywood/282679/)\n",
    "\n",
    "- **NYC Taxi Data (2014)**: Viajes \"anonimizados\" → identificaron celebridades y sus destinos\n",
    "  - 📰 [Neustar: Riding with the Stars](http://content.research.neustar.biz/blog/differential-privacy/QueriesWidget.html)\n",
    "  - 📰 [Bradley Cooper's taxi ride: a lesson in privacy risk](https://www.heliossalinger.com.au/2015/04/19/bradley-coopers-taxi-ride-a-lesson-in-privacy-risk/)\n",
    "\n",
    "**La solución: Datos Sintéticos**\n",
    "- ✅ Privacidad real (no contienen información de personas reales)\n",
    "- ✅ Utilidad preservada (mantienen patrones estadísticos)\n",
    "- ✅ Sin riesgo de reidentificación\n",
    "- ✅ Compartibles libremente"
   ]
  },
  {
   "cell_type": "markdown",
   "id": "af55f464",
   "metadata": {},
   "source": [
    "---\n",
    "\n",
    "## 2. Fundamentos: Tu primer dataset sintético (18 min)\n",
    "\n",
    "Vamos a generar una versión sintética del Census dataset que:\n",
    "1. Preserve las distribuciones estadísticas\n",
    "2. No contenga información de personas reales\n",
    "3. Sea útil para análisis y ML"
   ]
  },
  {
   "cell_type": "markdown",
   "id": "ea4aeb3a",
   "metadata": {},
   "source": [
    "### Preparar los datos"
   ]
  },
  {
   "cell_type": "code",
   "execution_count": 8,
   "id": "e7d37fbb",
   "metadata": {},
   "outputs": [
    {
     "name": "stdout",
     "output_type": "stream",
     "text": [
      "Training: 8,000 registros\n",
      "Holdout: 2,000 registros\n"
     ]
    }
   ],
   "source": [
    "from sklearn.model_selection import train_test_split\n",
    "\n",
    "census_sample = census.sample(10000, random_state=42)\n",
    "\n",
    "train_data, holdout_data = train_test_split(\n",
    "    census_sample, \n",
    "    test_size=0.2, \n",
    "    random_state=42,\n",
    "    stratify=census_sample['income']\n",
    ")\n",
    "\n",
    "print(f\"Training: {len(train_data):,} registros\")\n",
    "print(f\"Holdout: {len(holdout_data):,} registros\")"
   ]
  },
  {
   "cell_type": "markdown",
   "id": "c5620735",
   "metadata": {},
   "source": [
    "### Entrenar el generator\n",
    "\n",
    "#### ¿Qué es un Generator?\n",
    "\n",
    "Un **generator** es un modelo de machine learning (basado en redes neuronales) que aprende la distribución de probabilidad de los datos originales. Piensa en él como un \"experto\" que:\n",
    "\n",
    "1. 🧠 **Estudia** los patrones, correlaciones y distribuciones del dataset real\n",
    "2. 🎨 **Aprende** las relaciones complejas entre variables (ej: \"personas con PhD suelen ganar >50K\")\n",
    "3. 🎲 **Genera** nuevos registros que siguen esos mismos patrones, pero sin copiar personas reales\n",
    "\n",
    "**Analogía:** Es como un chef que:\n",
    "- Estudia una receta (datos originales)\n",
    "- Entiende las proporciones y combinaciones (patrones estadísticos)\n",
    "- Crea nuevos platos que tienen el mismo estilo, pero no son copias exactas (datos sintéticos)\n",
    "\n",
    "**Tecnología subyacente:** MostlyAI usa **TabularARGN**, un modelo autoregresivo especializado en datos tabulares que genera cada columna condicionalmente basándose en las anteriores. Este enfoque permite capturar relaciones complejas entre variables de forma eficiente.\n",
    "\n",
    "📄 **Paper del SDK:** [Democratizing Tabular Data Access with an Open-Source Synthetic-Data SDK](https://arxiv.org/html/2508.00718v1)\n",
    "\n",
    "#### Configuración del Generator\n",
    "\n",
    "Vamos a configurar y entrenar nuestro primer generator. Veamos qué significa cada parámetro:"
   ]
  },
  {
   "cell_type": "markdown",
   "id": "50467fb1",
   "metadata": {
    "vscode": {
     "languageId": "raw"
    }
   },
   "source": [
    "**Estructura de la configuración:**\n",
    "\n",
    "```python\n",
    "config = {\n",
    "    'name': 'Census Income Generator',           # Nombre descriptivo del generator\n",
    "    'tables': [{                                  # Lista de tablas a sintetizar\n",
    "        'name': 'census',                         # Nombre de la tabla\n",
    "        'data': train_data,                       # DataFrame con los datos de entrenamiento\n",
    "        'tabular_model_configuration': {          # Configuración del modelo\n",
    "            'max_training_time': 3                # Tiempo máximo de entrenamiento (minutos)\n",
    "        }\n",
    "    }]\n",
    "}\n",
    "```\n",
    "\n",
    "**Parámetros clave:**\n",
    "\n",
    "- **`name`**: Identificador del generator (útil cuando tienes múltiples generators)\n",
    "- **`tables`**: Lista de tablas a sintetizar (veremos multitabla más adelante)\n",
    "- **`data`**: Los datos de entrenamiento (pandas DataFrame)\n",
    "- **`max_training_time`**: Tiempo de entrenamiento en minutos\n",
    "  - 🏎️ Valores pequeños (1-3 min): Rápido, bueno para pruebas\n",
    "  - ⚖️ Valores medios (5-15 min): Balance entre velocidad y calidad\n",
    "  - 🎯 Valores altos (30+ min): Mejor calidad, para producción\n",
    "\n",
    "**Nota:** Para este workshop usamos 3 minutos para que sea rápido, pero en producción recomendamos al menos 15-30 minutos.\n"
   ]
  },
  {
   "cell_type": "code",
   "execution_count": 9,
   "id": "8e6fa896",
   "metadata": {},
   "outputs": [
    {
     "name": "stdout",
     "output_type": "stream",
     "text": [
      "🚀 Entrenando generator...\n",
      "(Esto puede tardar unos minutos)\n",
      "\n"
     ]
    },
    {
     "data": {
      "text/html": [
       "<pre style=\"white-space:pre;overflow-x:auto;line-height:normal;font-family:Menlo,'DejaVu Sans Mono',consolas,'Courier New',monospace\">Created generator <span style=\"color: #005fff; text-decoration-color: #005fff\">aa51ef7c-aa33-48b5-961d-b3499c1b4241</span>\n",
       "</pre>\n"
      ],
      "text/plain": [
       "Created generator \u001b[38;5;27maa51ef7c-aa33-48b5-961d-b3499c1b4241\u001b[0m\n"
      ]
     },
     "metadata": {},
     "output_type": "display_data"
    },
    {
     "data": {
      "text/html": [
       "<pre style=\"white-space:pre;overflow-x:auto;line-height:normal;font-family:Menlo,'DejaVu Sans Mono',consolas,'Courier New',monospace\">Started generator training\n",
       "</pre>\n"
      ],
      "text/plain": [
       "Started generator training\n"
      ]
     },
     "metadata": {},
     "output_type": "display_data"
    },
    {
     "data": {
      "application/vnd.jupyter.widget-view+json": {
       "model_id": "c2bd0a637e56488cac4bb05aa09b20a8",
       "version_major": 2,
       "version_minor": 0
      },
      "text/plain": [
       "Output()"
      ]
     },
     "metadata": {},
     "output_type": "display_data"
    },
    {
     "data": {
      "text/html": [
       "<pre style=\"white-space:pre;overflow-x:auto;line-height:normal;font-family:Menlo,'DejaVu Sans Mono',consolas,'Courier New',monospace\"></pre>\n"
      ],
      "text/plain": []
     },
     "metadata": {},
     "output_type": "display_data"
    },
    {
     "data": {
      "text/html": [
       "<pre style=\"white-space:pre;overflow-x:auto;line-height:normal;font-family:Menlo,'DejaVu Sans Mono',consolas,'Courier New',monospace\">🎉 <span style=\"color: #008000; text-decoration-color: #008000; font-weight: bold\">Your generator is ready!</span> Use it to create synthetic data. Publish it so others can do the same.\n",
       "</pre>\n"
      ],
      "text/plain": [
       "🎉 \u001b[1;32mYour generator is ready!\u001b[0m Use it to create synthetic data. Publish it so others can do the same.\n"
      ]
     },
     "metadata": {},
     "output_type": "display_data"
    },
    {
     "name": "stdout",
     "output_type": "stream",
     "text": [
      "\n",
      "✅ Generator entrenado!\n"
     ]
    }
   ],
   "source": [
    "config = {\n",
    "    'name': 'Census Income Generator',\n",
    "    'tables': [{\n",
    "        'name': 'census',\n",
    "        'data': train_data,\n",
    "        'tabular_model_configuration': {\n",
    "            'max_training_time': 3\n",
    "        }\n",
    "    }]\n",
    "}\n",
    "\n",
    "print(\"🚀 Entrenando generator...\")\n",
    "print(\"(Esto puede tardar unos minutos)\\n\")\n",
    "\n",
    "g = mostly.train(config=config)\n",
    "\n",
    "print(\"\\n✅ Generator entrenado!\")"
   ]
  },
  {
   "cell_type": "markdown",
   "id": "b2ff1b83",
   "metadata": {
    "jp-MarkdownHeadingCollapsed": true,
    "vscode": {
     "languageId": "raw"
    }
   },
   "source": [
    "---\n",
    "\n",
    "#### 🔧 Avanzado: Parámetros completos de configuración\n",
    "\n",
    "Esta sección es **opcional** y está dirigida a usuarios que quieren personalizar más el entrenamiento del generator.\n",
    "\n",
    "**Estructura completa de configuración:**\n",
    "\n",
    "```python\n",
    "config_avanzado = {\n",
    "    'name': 'Mi Generator Personalizado',\n",
    "    'tables': [{\n",
    "        'name': 'mi_tabla',\n",
    "        'data': mi_dataframe,\n",
    "        \n",
    "        # === CONFIGURACIÓN DE COLUMNAS ===\n",
    "        'columns': [\n",
    "            {\n",
    "                'name': 'columna1',\n",
    "                'model_encoding': 'CATEGORICAL',  # CATEGORICAL, NUMERIC, TEXT, DATETIME\n",
    "                'encoding_precision': 0.99        # Precisión de encoding (0-1)\n",
    "            }\n",
    "        ],\n",
    "        \n",
    "        # === CLAVES E INTEGRIDAD REFERENCIAL ===\n",
    "        'keys': [\n",
    "            {\n",
    "                'column': 'id',\n",
    "                'reference': {                    # Para foreign keys\n",
    "                    'table': 'otra_tabla',\n",
    "                    'column': 'id'\n",
    "                }\n",
    "            }\n",
    "        ],\n",
    "        \n",
    "        # === CONFIGURACIÓN DEL MODELO ===\n",
    "        'tabular_model_configuration': {\n",
    "            'max_training_time': 30,              # Tiempo máximo (minutos)\n",
    "            'epochs': 256,                        # Número de epochs (auto si no se especifica)\n",
    "            'batch_size': 512,                    # Tamaño del batch\n",
    "            \n",
    "            # Privacidad\n",
    "            'dp': True,                           # Activar differential privacy\n",
    "            'dp_epsilon': 1.0,                    # Epsilon para DP (menor = más privacidad)\n",
    "            'dp_delta': 1e-5,                     # Delta para DP\n",
    "            \n",
    "            # Regularización\n",
    "            'regularization_strength': 0.1        # Fuerza de regularización (0-1)\n",
    "        },\n",
    "        \n",
    "        # === COLUMNAS CONTEXTUALES ===\n",
    "        'context_columns': ['region', 'year']     # Columnas que condicionan la generación\n",
    "    }]\n",
    "}\n",
    "```\n",
    "\n",
    "**Parámetros detallados:**\n",
    "\n",
    "**A) Configuración de columnas (`columns`):**\n",
    "- **`model_encoding`**: Tipo de encoding para la columna\n",
    "  - `CATEGORICAL`: Para variables categóricas (sex, education, etc.)\n",
    "  - `NUMERIC`: Para variables numéricas (age, income, etc.)\n",
    "  - `TEXT`: Para texto libre (requiere LLM finetuning)\n",
    "  - `DATETIME`: Para fechas y timestamps\n",
    "- **`encoding_precision`**: Precisión del encoding (0-1). Valores más altos = más precisión pero más memoria\n",
    "\n",
    "**B) Claves e integridad (`keys`):**\n",
    "- **`column`**: Nombre de la columna clave\n",
    "- **`reference`**: Para foreign keys, referencia a otra tabla (veremos en multitabla)\n",
    "\n",
    "**C) Configuración del modelo (`tabular_model_configuration`):**\n",
    "\n",
    "**Entrenamiento:**\n",
    "- **`max_training_time`**: Tiempo máximo en minutos (default: 15)\n",
    "- **`epochs`**: Número de epochs (auto-calculado si no se especifica)\n",
    "- **`batch_size`**: Tamaño del batch (default: 512)\n",
    "\n",
    "**Privacidad (Differential Privacy):**\n",
    "- **`dp`**: Activar DP (default: False)\n",
    "- **`dp_epsilon`**: ε (epsilon) - Budget de privacidad\n",
    "  - Valores más bajos = más privacidad, menos utilidad\n",
    "  - Típico: 0.1 - 10.0\n",
    "- **`dp_delta`**: δ (delta) - Probabilidad de fallo\n",
    "  - Típico: 1e-5 o menor\n",
    "\n",
    "**Regularización:**\n",
    "- **`regularization_strength`**: Fuerza de regularización (0-1)\n",
    "  - Ayuda a prevenir overfitting\n",
    "  - Default: auto-calculado\n",
    "\n",
    "**D) Columnas contextuales (`context_columns`):**\n",
    "- Columnas que se usan para condicionar la generación\n",
    "- Útil para datos con estructura jerárquica o temporal\n",
    "- Ejemplo: generar datos por región o por año\n",
    "\n",
    "**💡 Recomendaciones:**\n",
    "\n",
    "1. **Para empezar**: Usa solo `max_training_time` y deja el resto en auto\n",
    "2. **Para producción**: Aumenta `max_training_time` a 30-60 minutos\n",
    "3. **Para datos sensibles**: Activa `dp` con `dp_epsilon` entre 1-10\n",
    "4. **Para datos desbalanceados**: Usa `regularization_strength` más alto (0.2-0.5)\n",
    "\n",
    "**📚 Documentación completa:** [docs.mostly.ai](https://docs.mostly.ai)\n"
   ]
  },
  {
   "cell_type": "markdown",
   "id": "2cefb528",
   "metadata": {},
   "source": [
    "### Generar datos sintéticos\n",
    "\n",
    "Una vez entrenado el generator, podemos usarlo para crear nuevos datos sintéticos. Hay dos formas principales:\n",
    "\n",
    "#### 🔬 Probe: Vista rápida\n",
    "\n",
    "Un **probe** es una muestra pequeña de datos sintéticos (típicamente 5-10 registros) que se genera rápidamente para:\n",
    "- ✅ Verificar que el generator funciona correctamente\n",
    "- ✅ Inspeccionar visualmente la calidad de los datos\n",
    "- ✅ Hacer pruebas rápidas sin esperar\n",
    "\n",
    "**Uso:**\n",
    "```python\n",
    "probe = mostly.probe(g, size=5)  # Genera 5 registros de muestra\n",
    "```\n",
    "\n",
    "#### 🎲 Generate: Dataset completo\n",
    "\n",
    "**Generate** crea el dataset sintético completo que usarás para análisis, ML, etc. Este proceso:\n",
    "- 📊 Genera tantos registros como necesites (o el mismo tamaño que los datos originales)\n",
    "- 🔗 Mantiene todas las correlaciones y patrones aprendidos\n",
    "- ✨ Crea datos completamente nuevos (no copias)\n",
    "- ⏱️ Puede tardar más tiempo según el tamaño\n",
    "\n",
    "**Uso:**\n",
    "```python\n",
    "syn_dataset = mostly.generate(g)  # Genera dataset del mismo tamaño que el original\n",
    "syn_data = syn_dataset.data()     # Extrae el DataFrame\n",
    "```\n",
    "\n",
    "Vamos a probar ambos:"
   ]
  },
  {
   "cell_type": "code",
   "execution_count": null,
   "id": "559d5a24",
   "metadata": {},
   "outputs": [],
   "source": [
    "probe = mostly.probe(g, size=5)\n",
    "print(\"🔬 Probe (5 registros sintéticos):\")\n",
    "probe\n"
   ]
  },
  {
   "cell_type": "code",
   "execution_count": null,
   "id": "d3d692b2-9b05-4b5e-9055-cb101321d542",
   "metadata": {},
   "outputs": [],
   "source": [
    "print(\"🎲 Generando dataset sintético completo...\")\n",
    "print(f\"(Mismo tamaño que el entrenamiento: {len(train_data):,} registros)\\n\")\n",
    "\n",
    "syn_dataset = mostly.generate(g)\n",
    "syn_data = syn_dataset.data()\n",
    "\n",
    "print(f\"✅ Generado: {syn_data.shape[0]:,} registros, {syn_data.shape[1]} columnas\")\n",
    "print(\"\\n🔬 Primeros registros sintéticos:\")\n",
    "syn_data.head()"
   ]
  },
  {
   "cell_type": "markdown",
   "id": "f78c8b0a",
   "metadata": {
    "vscode": {
     "languageId": "raw"
    }
   },
   "source": [
    "---\n",
    "\n",
    "#### 🔧 Avanzado: Parámetros de generación\n",
    "\n",
    "Esta sección es **opcional** y muestra todas las opciones disponibles para controlar la generación de datos sintéticos.\n",
    "\n",
    "**Estructura básica de generate():**\n",
    "\n",
    "```python\n",
    "syn_dataset = mostly.generate(\n",
    "    generator=g,              # El generator entrenado\n",
    "    size=10000,               # Número de registros a generar\n",
    "    seed=None,                # DataFrame seed para generación condicional\n",
    "    config=None               # Configuración adicional\n",
    ")\n",
    "```\n",
    "\n",
    "**Parámetros principales:**\n",
    "\n",
    "**A) `size` (int):**\n",
    "- Número de registros sintéticos a generar\n",
    "- Puede ser mayor, menor o igual al dataset original\n",
    "- No hay límite teórico (depende de recursos)\n",
    "\n",
    "**B) `seed` (DataFrame, opcional):**\n",
    "- DataFrame con valores pre-definidos para algunas columnas\n",
    "- El generator \"completa\" las columnas faltantes\n",
    "- **Uso:** Generación condicional (veremos más adelante)\n",
    "- Ejemplo:\n",
    "  ```python\n",
    "  seed = pd.DataFrame({'sex': ['Female'] * 100, 'education': ['Doctorate'] * 100})\n",
    "  syn = mostly.generate(g, seed=seed)\n",
    "  ```\n",
    "\n",
    "**C) `config` (dict, opcional):**\n",
    "- Configuración avanzada de la generación\n",
    "- Permite rebalancing, imputation, fairness, etc.\n",
    "\n",
    "**Estructura completa de config:**\n",
    "\n",
    "```python\n",
    "config_avanzado = {\n",
    "    'tables': [{\n",
    "        'name': 'census',          # Nombre de la tabla a generar\n",
    "        \n",
    "        # === REBALANCING ===\n",
    "        'configuration': {\n",
    "            'rebalancing': {\n",
    "                'columns': ['income'],  # Columnas a rebalancear\n",
    "                'targets': {\n",
    "                    '>50K': 0.5,       # Target: 50% con >50K\n",
    "                    '<=50K': 0.5       # Target: 50% con <=50K\n",
    "                }\n",
    "            },\n",
    "            \n",
    "            # === IMPUTATION ===\n",
    "            'imputation': {\n",
    "                'columns': ['education', 'occupation']  # Columnas a imputar\n",
    "            },\n",
    "            \n",
    "            # === FAIRNESS ===\n",
    "            'fairness': {\n",
    "                'sensitive_attributes': ['sex', 'race'],\n",
    "                'target_column': 'income',\n",
    "                'fairness_threshold': 0.8  # Ratio mínimo entre grupos\n",
    "            }\n",
    "        }\n",
    "    }]\n",
    "}\n",
    "\n",
    "syn_dataset = mostly.generate(g, size=10000, config=config_avanzado)\n",
    "```\n",
    "\n",
    "**Parámetros de configuración detallados:**\n",
    "\n",
    "**1. Rebalancing:**\n",
    "- **Objetivo:** Ajustar distribuciones de clases\n",
    "- **Uso común:** Balancear clases minoritarias para ML\n",
    "- **Ejemplo:**\n",
    "  ```python\n",
    "  config = {\n",
    "      'tables': [{\n",
    "          'configuration': {\n",
    "              'rebalancing': {\n",
    "                  'columns': ['income'],\n",
    "                  'targets': {'>50K': 0.5, '<=50K': 0.5}\n",
    "              }\n",
    "          }\n",
    "      }]\n",
    "  }\n",
    "  ```\n",
    "\n",
    "**2. Imputation:**\n",
    "- **Objetivo:** Rellenar valores faltantes de forma inteligente\n",
    "- **Uso común:** Completar datos incompletos\n",
    "- **Ejemplo:**\n",
    "  ```python\n",
    "  config = {\n",
    "      'tables': [{\n",
    "          'configuration': {\n",
    "              'imputation': {'columns': ['education']}\n",
    "          }\n",
    "      }]\n",
    "  }\n",
    "  ```\n",
    "\n",
    "**3. Fairness:**\n",
    "- **Objetivo:** Generar datos con paridad estadística entre grupos\n",
    "- **Uso común:** Reducir bias en datos de entrenamiento\n",
    "- **Parámetros:**\n",
    "  - `sensitive_attributes`: Atributos sensibles (sex, race, etc.)\n",
    "  - `target_column`: Variable objetivo\n",
    "  - `fairness_threshold`: Ratio mínimo entre grupos (0-1)\n",
    "\n",
    "**💡 Casos de uso comunes:**\n",
    "\n",
    "| Caso de Uso | Parámetro | Ejemplo |\n",
    "|-------------|-----------|---------|\n",
    "| Aumentar datos | `size` | `size=50000` (más que original) |\n",
    "| Generación condicional | `seed` | Mujeres con PhD solamente |\n",
    "| Balancear clases | `rebalancing` | 50-50 entre >50K y <=50K |\n",
    "| Completar datos | `imputation` | Rellenar educación faltante |\n",
    "| Reducir bias | `fairness` | Paridad entre géneros |\n",
    "\n",
    "**📚 Más información:**\n",
    "- [Documentación de generate()](https://docs.mostly.ai)\n",
    "- Veremos ejemplos prácticos de seed, rebalancing e imputation en las siguientes secciones\n"
   ]
  },
  {
   "cell_type": "markdown",
   "id": "41660189",
   "metadata": {},
   "source": [
    "### Comparar distribuciones: Real vs Sintético"
   ]
  },
  {
   "cell_type": "code",
   "execution_count": null,
   "id": "1c8ecad0",
   "metadata": {},
   "outputs": [],
   "source": [
    "fig, axes = plt.subplots(2, 3, figsize=(15, 8))\n",
    "axes = axes.ravel()\n",
    "\n",
    "cols_to_plot = ['age', 'education', 'occupation', 'income', 'hours_per_week', 'sex']\n",
    "\n",
    "for idx, col in enumerate(cols_to_plot):\n",
    "    ax = axes[idx]\n",
    "    \n",
    "    if train_data[col].dtype == 'object' or train_data[col].nunique() < 10:\n",
    "        real_counts = train_data[col].value_counts(normalize=True).sort_index()\n",
    "        syn_counts = syn_data[col].value_counts(normalize=True).sort_index()\n",
    "        \n",
    "        x = np.arange(len(real_counts))\n",
    "        width = 0.35\n",
    "        \n",
    "        ax.bar(x - width/2, real_counts.values, width, label='Real', alpha=0.8)\n",
    "        ax.bar(x + width/2, syn_counts.values, width, label='Sintético', alpha=0.8)\n",
    "        ax.set_xticks(x)\n",
    "        ax.set_xticklabels(real_counts.index, rotation=45, ha='right', fontsize=8)\n",
    "    else:\n",
    "        ax.hist(train_data[col].dropna(), bins=30, alpha=0.6, label='Real', density=True)\n",
    "        ax.hist(syn_data[col].dropna(), bins=30, alpha=0.6, label='Sintético', density=True)\n",
    "    \n",
    "    ax.set_title(col, fontweight='bold')\n",
    "    ax.legend()\n",
    "    ax.grid(alpha=0.3)\n",
    "\n",
    "plt.tight_layout()\n",
    "plt.show()\n",
    "\n",
    "print(\"📊 Las distribuciones se preservan!\")"
   ]
  },
  {
   "cell_type": "markdown",
   "id": "41adc9a0",
   "metadata": {},
   "source": [
    "### Verificar: ¿Funciona la reidentificación en datos sintéticos?"
   ]
  },
  {
   "cell_type": "code",
   "execution_count": null,
   "id": "ff32b5e5",
   "metadata": {},
   "outputs": [],
   "source": [
    "print(\"🔍 VERIFICACIÓN: Reidentificación en datos SINTÉTICOS\")\n",
    "print(\"=\"*60)\n",
    "\n",
    "candidatos_syn = syn_data[\n",
    "    (syn_data['sex'] == 'Female') &\n",
    "    (syn_data['education'] == 'Doctorate') &\n",
    "    (syn_data['age'] >= 45) & (syn_data['age'] <= 50) &\n",
    "    (syn_data['occupation'] == 'Exec-managerial') &\n",
    "    (syn_data['income'] == '>50K')\n",
    "]\n",
    "\n",
    "print(f\"\\nCandidatos en datos REALES: {len(candidatos)}\")\n",
    "print(f\"Candidatos en datos SINTÉTICOS: {len(candidatos_syn)}\")\n",
    "\n",
    "combos_syn = syn_data.groupby(['sex', 'education', 'occupation', 'age']).size()\n",
    "unicos_syn = combos_syn[combos_syn == 1]\n",
    "\n",
    "print(f\"\\nCombinaciones únicas en REALES: {len(unicos):,} ({len(unicos)/len(train_data)*100:.1f}%)\")\n",
    "print(f\"Combinaciones únicas en SINTÉTICOS: {len(unicos_syn):,} ({len(unicos_syn)/len(syn_data)*100:.1f}%)\")\n",
    "\n",
    "print(\"\\n✅ CONCLUSIÓN: Los datos sintéticos NO permiten reidentificación!\")"
   ]
  },
  {
   "cell_type": "markdown",
   "id": "31222044",
   "metadata": {},
   "source": [
    "---\n",
    "\n",
    "## 3. Evaluación: ¿Son buenos estos datos? (12 min)\n",
    "\n",
    "Dos formas de evaluar calidad:\n",
    "1. **QA Report**: Métricas automáticas de fidelidad\n",
    "2. **TSTR**: Train-on-Synthetic / Test-on-Real"
   ]
  },
  {
   "cell_type": "markdown",
   "id": "38a0aa73",
   "metadata": {},
   "source": [
    "### QA Report automático"
   ]
  },
  {
   "cell_type": "code",
   "execution_count": null,
   "id": "8ba24ff1",
   "metadata": {},
   "outputs": [],
   "source": [
    "print(\"📊 Quality Assurance Report:\\n\")\n",
    "g.reports(display=True)"
   ]
  },
  {
   "cell_type": "markdown",
   "id": "f77983e8",
   "metadata": {},
   "source": [
    "**Métricas del QA Report:**\n",
    "\n",
    "- **Accuracy**: Compara distribuciones univariadas y bivariadas\n",
    "- **Similarity**: Compara embeddings de orden superior (patrones complejos)\n",
    "- **Distance**: DCR (Distance to Closest Record) - mide novelty"
   ]
  },
  {
   "cell_type": "markdown",
   "id": "c6e14b1f",
   "metadata": {},
   "source": [
    "### TSTR: Train-on-Synthetic / Test-on-Real\n",
    "\n",
    "**Pregunta**: ¿Puedo entrenar un modelo con datos sintéticos y que funcione en datos reales?\n",
    "\n",
    "**Tarea**: Predecir income (>50K vs <=50K)"
   ]
  },
  {
   "cell_type": "code",
   "execution_count": null,
   "id": "3a6f5f29",
   "metadata": {},
   "outputs": [],
   "source": [
    "from sklearn.linear_model import LogisticRegression\n",
    "from sklearn.preprocessing import StandardScaler, OneHotEncoder\n",
    "from sklearn.compose import ColumnTransformer\n",
    "from sklearn.pipeline import Pipeline\n",
    "from sklearn.metrics import classification_report\n",
    "\n",
    "numeric_cols = ['age', 'capital_gain', 'capital_loss', 'hours_per_week', 'fnlwgt']\n",
    "categorical_cols = ['workclass', 'education', 'marital_status', 'occupation', \n",
    "                    'relationship', 'race', 'sex', 'native_country']\n",
    "\n",
    "preprocessor = ColumnTransformer(\n",
    "    transformers=[\n",
    "        ('num', StandardScaler(), numeric_cols),\n",
    "        ('cat', OneHotEncoder(handle_unknown='ignore'), categorical_cols)\n",
    "    ]\n",
    ")\n",
    "\n",
    "def evaluate_tstr(train_df, test_df, label):\n",
    "    train_clean = train_df.dropna()\n",
    "    test_clean = test_df.dropna()\n",
    "    \n",
    "    X_train = train_clean.drop(columns=['income'])\n",
    "    y_train = train_clean['income']\n",
    "    \n",
    "    X_test = test_clean.drop(columns=['income'])\n",
    "    y_test = test_clean['income']\n",
    "    \n",
    "    clf = Pipeline([\n",
    "        ('preprocessor', preprocessor),\n",
    "        ('classifier', LogisticRegression(max_iter=500))\n",
    "    ])\n",
    "    \n",
    "    clf.fit(X_train, y_train)\n",
    "    y_pred = clf.predict(X_test)\n",
    "    \n",
    "    print(f\"\\n{'='*60}\")\n",
    "    print(f\"{label}\")\n",
    "    print(f\"{'='*60}\")\n",
    "    print(classification_report(y_test, y_pred, digits=3))\n",
    "    \n",
    "    return classification_report(y_test, y_pred, output_dict=True)\n",
    "\n",
    "report_tstr = evaluate_tstr(syn_data, holdout_data, \"TSTR: Train-on-Synthetic / Test-on-Real\")\n",
    "report_real = evaluate_tstr(train_data, holdout_data, \"Baseline: Train-on-Real / Test-on-Real\")"
   ]
  },
  {
   "cell_type": "markdown",
   "id": "cb260931",
   "metadata": {},
   "source": [
    "### Comparación visual"
   ]
  },
  {
   "cell_type": "code",
   "execution_count": null,
   "id": "0c407d53",
   "metadata": {},
   "outputs": [],
   "source": [
    "metrics = ['precision', 'recall', 'f1-score']\n",
    "tstr_scores = [report_tstr['weighted avg'][m] for m in metrics]\n",
    "real_scores = [report_real['weighted avg'][m] for m in metrics]\n",
    "\n",
    "x = np.arange(len(metrics))\n",
    "width = 0.35\n",
    "\n",
    "fig, ax = plt.subplots(figsize=(10, 6))\n",
    "ax.bar(x - width/2, tstr_scores, width, label='Train-on-Synthetic', alpha=0.8)\n",
    "ax.bar(x + width/2, real_scores, width, label='Train-on-Real', alpha=0.8)\n",
    "\n",
    "ax.set_ylabel('Score')\n",
    "ax.set_title('Comparación TSTR vs Train-on-Real', fontweight='bold', fontsize=14)\n",
    "ax.set_xticks(x)\n",
    "ax.set_xticklabels(metrics)\n",
    "ax.set_ylim(0.6, 0.9)\n",
    "ax.legend()\n",
    "ax.grid(axis='y', alpha=0.3)\n",
    "\n",
    "for i, (tstr, real) in enumerate(zip(tstr_scores, real_scores)):\n",
    "    ax.text(i - width/2, tstr + 0.01, f'{tstr:.3f}', ha='center', fontsize=10)\n",
    "    ax.text(i + width/2, real + 0.01, f'{real:.3f}', ha='center', fontsize=10)\n",
    "\n",
    "plt.tight_layout()\n",
    "plt.show()\n",
    "\n",
    "print(\"\\n✅ Los datos sintéticos son útiles para ML!\")"
   ]
  },
  {
   "cell_type": "markdown",
   "id": "026558bd",
   "metadata": {},
   "source": [
    "---\n",
    "\n",
    "## 4. Control del resultado: Filtros y condiciones (20 min)\n",
    "\n",
    "Ahora que sabemos generar datos sintéticos, vamos a controlar QUÉ generamos."
   ]
  },
  {
   "cell_type": "markdown",
   "id": "779cfd12",
   "metadata": {},
   "source": [
    "### A. Seeded Generation (Generación Condicional)\n",
    "\n",
    "**Caso de uso**: Quiero generar solo mujeres con PhD\n",
    "\n",
    "**Cómo funciona**: Fijamos algunas columnas, el generator \"completa\" el resto manteniendo coherencia."
   ]
  },
  {
   "cell_type": "code",
   "execution_count": null,
   "id": "ab9db798",
   "metadata": {},
   "outputs": [],
   "source": [
    "print(\"🎯 SEEDED GENERATION: Solo mujeres con PhD\\n\")\n",
    "\n",
    "seed_women_phd = pd.DataFrame({\n",
    "    'sex': ['Female'] * 20,\n",
    "    'education': ['Doctorate'] * 20\n",
    "})\n",
    "\n",
    "print(\"Seed data (lo que fijamos):\")\n",
    "print(seed_women_phd.head())\n",
    "\n",
    "syn_conditional = mostly.generate(g, seed=seed_women_phd)\n",
    "syn_women_phd = syn_conditional.data()\n",
    "\n",
    "print(\"\\nDatos sintéticos generados (el generator completó el resto):\")\n",
    "print(syn_women_phd[['sex', 'education', 'age', 'occupation', 'income', 'hours_per_week']].head(10))\n",
    "\n",
    "print(f\"\\n✅ Verificación:\")\n",
    "print(f\"   • Todas mujeres: {(syn_women_phd['sex'] == 'Female').all()}\")\n",
    "print(f\"   • Todas PhD: {(syn_women_phd['education'] == 'Doctorate').all()}\")\n",
    "print(f\"   • Ocupaciones variadas: {syn_women_phd['occupation'].nunique()} diferentes\")\n",
    "print(f\"   • Edades variadas: {syn_women_phd['age'].min():.0f} - {syn_women_phd['age'].max():.0f} años\")"
   ]
  },
  {
   "cell_type": "markdown",
   "id": "20990954",
   "metadata": {},
   "source": [
    "### Ejemplo 2: Generar personas jóvenes con altos ingresos"
   ]
  },
  {
   "cell_type": "code",
   "execution_count": null,
   "id": "53c739a2",
   "metadata": {},
   "outputs": [],
   "source": [
    "print(\"🎯 SEEDED GENERATION: Jóvenes con altos ingresos\\n\")\n",
    "\n",
    "seed_young_rich = pd.DataFrame({\n",
    "    'age': [25, 26, 27, 28, 29, 30] * 5,\n",
    "    'income': ['>50K'] * 30\n",
    "})\n",
    "\n",
    "syn_young_rich = mostly.generate(g, seed=seed_young_rich).data()\n",
    "\n",
    "print(\"Datos sintéticos generados:\")\n",
    "print(syn_young_rich[['age', 'income', 'education', 'occupation', 'hours_per_week']].head(10))\n",
    "\n",
    "print(f\"\\n📊 Distribución de educación en jóvenes con >50K:\")\n",
    "print(syn_young_rich['education'].value_counts())"
   ]
  },
  {
   "cell_type": "markdown",
   "id": "687800cc",
   "metadata": {},
   "source": [
    "### 💡 Momento interactivo\n",
    "\n",
    "**¿Qué otras condiciones queréis probar?**\n",
    "\n",
    "Ideas:\n",
    "- Solo personas con Masters trabajando en Tech\n",
    "- Personas mayores de 60 años\n",
    "- Personas con ingresos bajos pero alta educación\n",
    "\n",
    "Probad vosotros:"
   ]
  },
  {
   "cell_type": "code",
   "execution_count": null,
   "id": "a93ce3dd",
   "metadata": {},
   "outputs": [],
   "source": [
    "# Tu turno: crea tu propia seed data\n",
    "\n",
    "# my_seed = pd.DataFrame({\n",
    "#     # Añade tus condiciones aquí\n",
    "# })\n",
    "\n",
    "# syn_custom = mostly.generate(g, seed=my_seed).data()\n",
    "# print(syn_custom.head())"
   ]
  },
  {
   "cell_type": "markdown",
   "id": "af73a3fe",
   "metadata": {},
   "source": [
    "### B. Imputation Inteligente\n",
    "\n",
    "**Caso de uso**: Tengo datos con valores faltantes en `education`\n",
    "\n",
    "**Solución**: El generator imputa valores coherentes basándose en el resto de características"
   ]
  },
  {
   "cell_type": "code",
   "execution_count": null,
   "id": "fef0c9e6",
   "metadata": {},
   "outputs": [],
   "source": [
    "print(\"🔧 IMPUTATION: Completar valores faltantes\\n\")\n",
    "\n",
    "data_with_missing = train_data[train_data['education'].isnull()].copy()\n",
    "\n",
    "if len(data_with_missing) == 0:\n",
    "    print(\"No hay valores faltantes en education. Creando algunos artificialmente...\")\n",
    "    data_with_missing = train_data.sample(50, random_state=42).copy()\n",
    "    data_with_missing['education'] = None\n",
    "\n",
    "print(f\"Registros con education faltante: {len(data_with_missing)}\")\n",
    "print(\"\\nEjemplo de datos con valores faltantes:\")\n",
    "print(data_with_missing[['age', 'occupation', 'education', 'income']].head())\n",
    "\n",
    "imputation_config = {\n",
    "    'tables': [{\n",
    "        'configuration': {\n",
    "            'imputation': {'columns': ['education']}\n",
    "        }\n",
    "    }]\n",
    "}\n",
    "\n",
    "syn_imputed = mostly.generate(g, config=imputation_config, seed=data_with_missing).data()\n",
    "\n",
    "print(\"\\n✅ Datos con education imputada:\")\n",
    "print(syn_imputed[['age', 'occupation', 'education', 'income']].head())\n",
    "\n",
    "print(f\"\\nValores faltantes después de imputation: {syn_imputed['education'].isnull().sum()}\")"
   ]
  },
  {
   "cell_type": "markdown",
   "id": "46df270d",
   "metadata": {},
   "source": [
    "### Comparación: Imputation inteligente vs naive"
   ]
  },
  {
   "cell_type": "code",
   "execution_count": null,
   "id": "468d1101",
   "metadata": {},
   "outputs": [],
   "source": [
    "naive_imputed = data_with_missing.copy()\n",
    "naive_imputed['education'] = train_data['education'].mode()[0]\n",
    "\n",
    "fig, (ax1, ax2) = plt.subplots(1, 2, figsize=(14, 5))\n",
    "\n",
    "syn_imputed['education'].value_counts().plot(kind='bar', ax=ax1, alpha=0.8)\n",
    "ax1.set_title('Imputation Inteligente (Synthetic)', fontweight='bold')\n",
    "ax1.set_ylabel('Frecuencia')\n",
    "ax1.tick_params(axis='x', rotation=45)\n",
    "\n",
    "naive_imputed['education'].value_counts().plot(kind='bar', ax=ax2, alpha=0.8, color='orange')\n",
    "ax2.set_title('Imputation Naive (Mode)', fontweight='bold')\n",
    "ax2.set_ylabel('Frecuencia')\n",
    "ax2.tick_params(axis='x', rotation=45)\n",
    "\n",
    "plt.tight_layout()\n",
    "plt.show()\n",
    "\n",
    "print(\"📊 La imputation inteligente preserva la variabilidad!\")"
   ]
  },
  {
   "cell_type": "markdown",
   "id": "82287794",
   "metadata": {},
   "source": [
    "### C. Rebalancing de clases\n",
    "\n",
    "**Problema**: El dataset está desbalanceado (más personas con <=50K que con >50K)\n",
    "\n",
    "**Solución**: Generar más registros de la clase minoritaria"
   ]
  },
  {
   "cell_type": "code",
   "execution_count": null,
   "id": "a7d352f7",
   "metadata": {},
   "outputs": [],
   "source": [
    "print(\"⚖️  REBALANCING: Balancear clases de income\\n\")\n",
    "\n",
    "print(\"Distribución ORIGINAL:\")\n",
    "print(train_data['income'].value_counts(normalize=True))\n",
    "\n",
    "print(\"\\nDistribución SINTÉTICA (sin rebalancing):\")\n",
    "print(syn_data['income'].value_counts(normalize=True))\n",
    "\n",
    "seed_high_income = pd.DataFrame({\n",
    "    'income': ['>50K'] * 2000\n",
    "})\n",
    "\n",
    "syn_high_income = mostly.generate(g, seed=seed_high_income).data()\n",
    "\n",
    "syn_balanced = pd.concat([syn_data, syn_high_income], ignore_index=True)\n",
    "\n",
    "print(\"\\nDistribución BALANCEADA:\")\n",
    "print(syn_balanced['income'].value_counts(normalize=True))"
   ]
  },
  {
   "cell_type": "code",
   "execution_count": null,
   "id": "e6b6f27f",
   "metadata": {},
   "outputs": [],
   "source": [
    "fig, axes = plt.subplots(1, 3, figsize=(15, 4))\n",
    "\n",
    "train_data['income'].value_counts().plot(kind='bar', ax=axes[0], alpha=0.8)\n",
    "axes[0].set_title('Original', fontweight='bold')\n",
    "axes[0].set_ylabel('Frecuencia')\n",
    "\n",
    "syn_data['income'].value_counts().plot(kind='bar', ax=axes[1], alpha=0.8)\n",
    "axes[1].set_title('Sintético (sin rebalancing)', fontweight='bold')\n",
    "axes[1].set_ylabel('Frecuencia')\n",
    "\n",
    "syn_balanced['income'].value_counts().plot(kind='bar', ax=axes[2], alpha=0.8, color='green')\n",
    "axes[2].set_title('Sintético (balanceado)', fontweight='bold')\n",
    "axes[2].set_ylabel('Frecuencia')\n",
    "\n",
    "plt.tight_layout()\n",
    "plt.show()\n",
    "\n",
    "print(\"✅ Clases balanceadas para mejor entrenamiento de modelos!\")"
   ]
  },
  {
   "cell_type": "markdown",
   "id": "e632987e",
   "metadata": {},
   "source": [
    "---\n",
    "\n",
    "## 5. Datasets Multitabla con Relaciones (20 min)\n",
    "\n",
    "En el mundo real, los datos suelen estar en múltiples tablas relacionadas.\n",
    "\n",
    "**Ejemplo**: Separar Census en:\n",
    "- **Personas**: Datos demográficos\n",
    "- **Empleos**: Información laboral\n",
    "- **Educación**: Historial educativo"
   ]
  },
  {
   "cell_type": "markdown",
   "id": "ad3ce835",
   "metadata": {},
   "source": [
    "### Crear estructura multitabla"
   ]
  },
  {
   "cell_type": "code",
   "execution_count": null,
   "id": "bca1777d",
   "metadata": {},
   "outputs": [],
   "source": [
    "print(\"🏗️  CREANDO ESTRUCTURA MULTITABLA\\n\")\n",
    "\n",
    "train_with_id = train_data.copy()\n",
    "train_with_id['person_id'] = range(len(train_with_id))\n",
    "\n",
    "persons = train_with_id[['person_id', 'age', 'sex', 'race', 'marital_status', 'relationship', 'native_country']].copy()\n",
    "\n",
    "jobs = train_with_id[['person_id', 'workclass', 'occupation', 'hours_per_week', 'income']].copy()\n",
    "\n",
    "education = train_with_id[['person_id', 'education', 'education_num']].copy()\n",
    "\n",
    "print(f\"✅ Tabla PERSONS: {persons.shape}\")\n",
    "print(persons.head(3))\n",
    "\n",
    "print(f\"\\n✅ Tabla JOBS: {jobs.shape}\")\n",
    "print(jobs.head(3))\n",
    "\n",
    "print(f\"\\n✅ Tabla EDUCATION: {education.shape}\")\n",
    "print(education.head(3))"
   ]
  },
  {
   "cell_type": "markdown",
   "id": "f69b521d",
   "metadata": {},
   "source": [
    "### Configurar relaciones y entrenar"
   ]
  },
  {
   "cell_type": "code",
   "execution_count": null,
   "id": "fd43a166",
   "metadata": {},
   "outputs": [],
   "source": [
    "multi_config = {\n",
    "    'name': 'Census Multi-Table',\n",
    "    'tables': [\n",
    "        {\n",
    "            'name': 'persons',\n",
    "            'data': persons,\n",
    "            'keys': [{'column': 'person_id'}]\n",
    "        },\n",
    "        {\n",
    "            'name': 'jobs',\n",
    "            'data': jobs,\n",
    "            'keys': [{\n",
    "                'column': 'person_id',\n",
    "                'reference': {\n",
    "                    'table': 'persons',\n",
    "                    'column': 'person_id'\n",
    "                }\n",
    "            }]\n",
    "        },\n",
    "        {\n",
    "            'name': 'education',\n",
    "            'data': education,\n",
    "            'keys': [{\n",
    "                'column': 'person_id',\n",
    "                'reference': {\n",
    "                    'table': 'persons',\n",
    "                    'column': 'person_id'\n",
    "                }\n",
    "            }]\n",
    "        }\n",
    "    ]\n",
    "}\n",
    "\n",
    "print(\"🚀 Entrenando generator multitabla...\\n\")\n",
    "g_multi = mostly.train(multi_config)\n",
    "print(\"\\n✅ Generator multitabla entrenado!\")"
   ]
  },
  {
   "cell_type": "markdown",
   "id": "c9eb5b70",
   "metadata": {},
   "source": [
    "### Generar datos sintéticos multitabla"
   ]
  },
  {
   "cell_type": "code",
   "execution_count": null,
   "id": "66e2c4c8",
   "metadata": {},
   "outputs": [],
   "source": [
    "print(\"🎲 Generando datos sintéticos multitabla...\\n\")\n",
    "\n",
    "syn_multi = mostly.generate(g_multi, size=1000)\n",
    "\n",
    "syn_persons = syn_multi.data('persons')\n",
    "syn_jobs = syn_multi.data('jobs')\n",
    "syn_education = syn_multi.data('education')\n",
    "\n",
    "print(f\"✅ Tabla PERSONS sintética: {syn_persons.shape}\")\n",
    "print(syn_persons.head(3))\n",
    "\n",
    "print(f\"\\n✅ Tabla JOBS sintética: {syn_jobs.shape}\")\n",
    "print(syn_jobs.head(3))\n",
    "\n",
    "print(f\"\\n✅ Tabla EDUCATION sintética: {syn_education.shape}\")\n",
    "print(syn_education.head(3))"
   ]
  },
  {
   "cell_type": "markdown",
   "id": "3d9fbede",
   "metadata": {},
   "source": [
    "### Verificar integridad referencial"
   ]
  },
  {
   "cell_type": "code",
   "execution_count": null,
   "id": "3d80ea24",
   "metadata": {},
   "outputs": [],
   "source": [
    "print(\"🔍 VERIFICACIÓN DE INTEGRIDAD REFERENCIAL\\n\")\n",
    "\n",
    "persons_ids = set(syn_persons['person_id'])\n",
    "jobs_ids = set(syn_jobs['person_id'])\n",
    "education_ids = set(syn_education['person_id'])\n",
    "\n",
    "print(f\"IDs únicos en PERSONS: {len(persons_ids)}\")\n",
    "print(f\"IDs únicos en JOBS: {len(jobs_ids)}\")\n",
    "print(f\"IDs únicos en EDUCATION: {len(education_ids)}\")\n",
    "\n",
    "jobs_orphans = jobs_ids - persons_ids\n",
    "education_orphans = education_ids - persons_ids\n",
    "\n",
    "print(f\"\\n✅ Verificaciones:\")\n",
    "print(f\"   • JOBS sin persona: {len(jobs_orphans)} (debe ser 0)\")\n",
    "print(f\"   • EDUCATION sin persona: {len(education_orphans)} (debe ser 0)\")\n",
    "\n",
    "if len(jobs_orphans) == 0 and len(education_orphans) == 0:\n",
    "    print(\"\\n🎉 ¡Integridad referencial perfecta!\")\n",
    "else:\n",
    "    print(\"\\n⚠️  Hay registros huérfanos\")"
   ]
  },
  {
   "cell_type": "markdown",
   "id": "c466c865",
   "metadata": {},
   "source": [
    "### Ejemplo de JOIN: Reconstruir dataset completo"
   ]
  },
  {
   "cell_type": "code",
   "execution_count": null,
   "id": "bbc70c1f",
   "metadata": {},
   "outputs": [],
   "source": [
    "print(\"🔗 RECONSTRUYENDO DATASET COMPLETO CON JOINS\\n\")\n",
    "\n",
    "syn_complete = syn_persons.merge(syn_jobs, on='person_id').merge(syn_education, on='person_id')\n",
    "\n",
    "print(f\"Dataset completo: {syn_complete.shape}\")\n",
    "print(\"\\nPrimeras filas:\")\n",
    "print(syn_complete.head())\n",
    "\n",
    "print(\"\\n✅ Las relaciones se mantienen correctamente!\")"
   ]
  },
  {
   "cell_type": "markdown",
   "id": "ca697823",
   "metadata": {},
   "source": [
    "### Ejemplo práctico: Análisis por JOIN"
   ]
  },
  {
   "cell_type": "code",
   "execution_count": null,
   "id": "1daad0ed",
   "metadata": {},
   "outputs": [],
   "source": [
    "print(\"📊 ANÁLISIS: Income por nivel educativo y género\\n\")\n",
    "\n",
    "analysis = syn_complete.groupby(['education', 'sex', 'income']).size().unstack(fill_value=0)\n",
    "print(analysis)\n",
    "\n",
    "fig, ax = plt.subplots(figsize=(12, 6))\n",
    "education_income = syn_complete.groupby(['education', 'income']).size().unstack()\n",
    "education_income.plot(kind='bar', ax=ax, alpha=0.8)\n",
    "ax.set_title('Distribución de Income por Educación (Datos Sintéticos)', fontweight='bold')\n",
    "ax.set_xlabel('Nivel Educativo')\n",
    "ax.set_ylabel('Frecuencia')\n",
    "ax.legend(title='Income')\n",
    "plt.xticks(rotation=45, ha='right')\n",
    "plt.tight_layout()\n",
    "plt.show()\n",
    "\n",
    "print(\"\\n✅ Podemos hacer análisis complejos manteniendo relaciones!\")"
   ]
  },
  {
   "cell_type": "markdown",
   "id": "730af38d",
   "metadata": {},
   "source": [
    "### 💡 Otros casos de uso multitabla\n",
    "\n",
    "**E-commerce:**\n",
    "- Customers → Orders → Products → Reviews\n",
    "\n",
    "**Healthcare:**\n",
    "- Patients → Visits → Diagnoses → Prescriptions\n",
    "\n",
    "**Banking:**\n",
    "- Customers → Accounts → Transactions → Cards\n",
    "\n",
    "**IoT/Logs:**\n",
    "- Devices → Events → Metrics → Alerts"
   ]
  },
  {
   "cell_type": "markdown",
   "id": "baccd48d",
   "metadata": {},
   "source": [
    "---\n",
    "\n",
    "## 6. Wrap-up y Próximos Pasos (5 min)\n",
    "\n",
    "### 🎉 ¿Qué hemos aprendido?\n",
    "\n",
    "1. ✅ **El problema**: Anonimización tradicional no funciona\n",
    "2. ✅ **La solución**: Datos sintéticos con privacidad real\n",
    "3. ✅ **Generación básica**: Entrenar generators y generar datos\n",
    "4. ✅ **Evaluación**: QA Reports y TSTR\n",
    "5. ✅ **Control**: Seeded generation, imputation, rebalancing\n",
    "6. ✅ **Multitabla**: Mantener relaciones entre entidades\n",
    "\n",
    "### 🚀 Próximos pasos\n",
    "\n",
    "**Recursos:**\n",
    "- 📚 Documentación: [docs.mostly.ai](https://docs.mostly.ai)\n",
    "- 💻 GitHub: [github.com/mostly-ai/mostlyai](https://github.com/mostly-ai/mostlyai)\n",
    "- 🎓 Más ejemplos: [github.com/mostly-ai/mostly-tutorials](https://github.com/mostly-ai/mostly-tutorials)\n",
    "\n",
    "**Funcionalidades avanzadas (no cubiertas hoy):**\n",
    "- Privacidad diferencial (ε-differential privacy)\n",
    "- Fairness (datos sintéticos justos)\n",
    "- Datos secuenciales/temporales\n",
    "- Columnas de texto (con LLMs)\n",
    "- Modo cloud (más potente y rápido)\n",
    "\n",
    "**Casos de uso:**\n",
    "- 🔬 Investigación: Compartir datos sin restricciones\n",
    "- 🏢 Empresas: Testing, desarrollo, demos\n",
    "- 🎓 Educación: Datasets realistas para enseñanza\n",
    "- 🤖 ML: Data augmentation, balancing, imputation\n",
    "- 📊 Analytics: Análisis sin riesgos de privacidad"
   ]
  },
  {
   "cell_type": "markdown",
   "id": "159e5c0d",
   "metadata": {},
   "source": [
    "### 💬 Q&A\n",
    "\n",
    "¿Preguntas?"
   ]
  },
  {
   "cell_type": "markdown",
   "id": "936dff96",
   "metadata": {},
   "source": [
    "---\n",
    "\n",
    "## 🎁 Bonus: Experimentación libre\n",
    "\n",
    "Usa las siguientes celdas para experimentar con tus propios casos:"
   ]
  },
  {
   "cell_type": "code",
   "execution_count": null,
   "id": "9f4b86f6",
   "metadata": {},
   "outputs": [],
   "source": [
    "# Experimenta aquí con seeded generation\n"
   ]
  },
  {
   "cell_type": "code",
   "execution_count": null,
   "id": "3af20ddd",
   "metadata": {},
   "outputs": [],
   "source": [
    "# Experimenta aquí con imputation\n"
   ]
  },
  {
   "cell_type": "code",
   "execution_count": null,
   "id": "07aba485",
   "metadata": {},
   "outputs": [],
   "source": [
    "# Experimenta aquí con multitabla\n"
   ]
  },
  {
   "cell_type": "markdown",
   "id": "962b2555",
   "metadata": {},
   "source": [
    "---\n",
    "\n",
    "**¡Gracias por participar!** 🙏\n",
    "\n",
    "**Contacto:**\n",
    "- Twitter/X: [@mostly_ai](https://twitter.com/mostly_ai)\n",
    "- LinkedIn: [MOSTLY AI](https://www.linkedin.com/company/mostly-ai/)\n",
    "- Email: support@mostly.ai\n",
    "\n",
    "**Contribuye al proyecto:**\n",
    "- ⭐ Star en GitHub\n",
    "- 🐛 Reporta bugs\n",
    "- 💡 Sugiere features\n",
    "- 🔧 Contribuye código"
   ]
  }
 ],
 "metadata": {
  "kernelspec": {
   "display_name": "Python (PyCon-MostlyAI)",
   "language": "python",
   "name": "pycon-mostlyai"
  },
  "language_info": {
   "codemirror_mode": {
    "name": "ipython",
    "version": 3
   },
   "file_extension": ".py",
   "mimetype": "text/x-python",
   "name": "python",
   "nbconvert_exporter": "python",
   "pygments_lexer": "ipython3",
   "version": "3.12.9"
  }
 },
 "nbformat": 4,
 "nbformat_minor": 5
}
