{
 "cells": [
  {
   "cell_type": "markdown",
   "id": "b2381157-7e39-4fd1-8ede-4e81ac9ff2a8",
   "metadata": {},
   "source": [
    "# MostlyAI SDK Tutorial — Hands-On continuation\n",
    "\n",
    "In this second part we'll focus on two important topics where synthetic data can make a difference: privacy and, if time permits, fairness. "
   ]
  },
  {
   "cell_type": "markdown",
   "id": "8dd0ccb7",
   "metadata": {},
   "source": [
    "## Differentially Private Synthetic Data\n",
    "\n",
    "Regulations and privacy concerns can hinder data availability and usage. Synthetic data has the potential of helping overcome this issue by\n",
    "- enabling data sharing, internally and externally ([here's](https://tools.eeb.eurac.edu/epc_clustering/piemonte/) an example)\n",
    "- enabling data retention beyond legal periods.\n",
    "\n",
    "MOSTLYAI SDK implements several privacy mechanisms such as value protection or overfitting prevention (more information [here](https://docs.mostly.ai/concepts/privacy-protection)), but in this tutorial we'll focus on **differential privacy** (DP).\n",
    "\n",
    "### Differential Privacy TL;DR\n",
    "\n",
    "Roughly speaking, DP is a mathematical framework for sharing sensitive data that preserves general statistics while limiting informations leaks about specific individuals.\n",
    "An important hyperparameter in DP is ε, which represents the privacy budget. Smaller ε values are associated with stronger privacy, which comes at the cost of harming accuracy a bit. We'll delve into this in a moment.\n",
    "\n",
    "How it is applied in MOSTLYAI SDK:\n",
    "- DP is used to define value bounds for each column, with an ε budget that is evenly split across columns,\n",
    "- Trainig the model with a differentially private gradient descent mechanism called DP-SGD with some budget ε,\n",
    "- The total privacy budget is the sum of both budgets.\n",
    "\n",
    "See [DifferentialPrivacyConfig](https://mostly-ai.github.io/mostlyai/api_domain/#mostlyai.sdk.domain.DifferentialPrivacyConfig) for all available configuration parameters.\n"
   ]
  },
  {
   "cell_type": "markdown",
   "id": "e42b8878-e345-406b-8ff2-500a87740906",
   "metadata": {},
   "source": [
    "### Load Original Data\n",
    "\n",
    "We'll work with a different dataset now, the `census` dataset which contains demographic information about a population."
   ]
  },
  {
   "cell_type": "code",
   "execution_count": 1,
   "id": "b131403d-1b60-4f36-a712-a96fe3a526c4",
   "metadata": {},
   "outputs": [
    {
     "data": {
      "text/html": [
       "<div>\n",
       "<style scoped>\n",
       "    .dataframe tbody tr th:only-of-type {\n",
       "        vertical-align: middle;\n",
       "    }\n",
       "\n",
       "    .dataframe tbody tr th {\n",
       "        vertical-align: top;\n",
       "    }\n",
       "\n",
       "    .dataframe thead th {\n",
       "        text-align: right;\n",
       "    }\n",
       "</style>\n",
       "<table border=\"1\" class=\"dataframe\">\n",
       "  <thead>\n",
       "    <tr style=\"text-align: right;\">\n",
       "      <th></th>\n",
       "      <th>age</th>\n",
       "      <th>fnlwgt</th>\n",
       "      <th>education_num</th>\n",
       "      <th>capital_gain</th>\n",
       "      <th>capital_loss</th>\n",
       "      <th>hours_per_week</th>\n",
       "    </tr>\n",
       "  </thead>\n",
       "  <tbody>\n",
       "    <tr>\n",
       "      <th>count</th>\n",
       "      <td>48842.000000</td>\n",
       "      <td>4.884200e+04</td>\n",
       "      <td>48842.000000</td>\n",
       "      <td>48842.000000</td>\n",
       "      <td>48842.000000</td>\n",
       "      <td>48842.000000</td>\n",
       "    </tr>\n",
       "    <tr>\n",
       "      <th>mean</th>\n",
       "      <td>38.643585</td>\n",
       "      <td>1.896641e+05</td>\n",
       "      <td>10.078089</td>\n",
       "      <td>1079.067626</td>\n",
       "      <td>87.502314</td>\n",
       "      <td>40.422382</td>\n",
       "    </tr>\n",
       "    <tr>\n",
       "      <th>std</th>\n",
       "      <td>13.710510</td>\n",
       "      <td>1.056040e+05</td>\n",
       "      <td>2.570973</td>\n",
       "      <td>7452.019058</td>\n",
       "      <td>403.004552</td>\n",
       "      <td>12.391444</td>\n",
       "    </tr>\n",
       "    <tr>\n",
       "      <th>min</th>\n",
       "      <td>17.000000</td>\n",
       "      <td>1.228500e+04</td>\n",
       "      <td>1.000000</td>\n",
       "      <td>0.000000</td>\n",
       "      <td>0.000000</td>\n",
       "      <td>1.000000</td>\n",
       "    </tr>\n",
       "    <tr>\n",
       "      <th>25%</th>\n",
       "      <td>28.000000</td>\n",
       "      <td>1.175505e+05</td>\n",
       "      <td>9.000000</td>\n",
       "      <td>0.000000</td>\n",
       "      <td>0.000000</td>\n",
       "      <td>40.000000</td>\n",
       "    </tr>\n",
       "    <tr>\n",
       "      <th>50%</th>\n",
       "      <td>37.000000</td>\n",
       "      <td>1.781445e+05</td>\n",
       "      <td>10.000000</td>\n",
       "      <td>0.000000</td>\n",
       "      <td>0.000000</td>\n",
       "      <td>40.000000</td>\n",
       "    </tr>\n",
       "    <tr>\n",
       "      <th>75%</th>\n",
       "      <td>48.000000</td>\n",
       "      <td>2.376420e+05</td>\n",
       "      <td>12.000000</td>\n",
       "      <td>0.000000</td>\n",
       "      <td>0.000000</td>\n",
       "      <td>45.000000</td>\n",
       "    </tr>\n",
       "    <tr>\n",
       "      <th>max</th>\n",
       "      <td>90.000000</td>\n",
       "      <td>1.490400e+06</td>\n",
       "      <td>16.000000</td>\n",
       "      <td>99999.000000</td>\n",
       "      <td>4356.000000</td>\n",
       "      <td>99.000000</td>\n",
       "    </tr>\n",
       "  </tbody>\n",
       "</table>\n",
       "</div>"
      ],
      "text/plain": [
       "                age        fnlwgt  education_num  capital_gain  capital_loss  \\\n",
       "count  48842.000000  4.884200e+04   48842.000000  48842.000000  48842.000000   \n",
       "mean      38.643585  1.896641e+05      10.078089   1079.067626     87.502314   \n",
       "std       13.710510  1.056040e+05       2.570973   7452.019058    403.004552   \n",
       "min       17.000000  1.228500e+04       1.000000      0.000000      0.000000   \n",
       "25%       28.000000  1.175505e+05       9.000000      0.000000      0.000000   \n",
       "50%       37.000000  1.781445e+05      10.000000      0.000000      0.000000   \n",
       "75%       48.000000  2.376420e+05      12.000000      0.000000      0.000000   \n",
       "max       90.000000  1.490400e+06      16.000000  99999.000000   4356.000000   \n",
       "\n",
       "       hours_per_week  \n",
       "count    48842.000000  \n",
       "mean        40.422382  \n",
       "std         12.391444  \n",
       "min          1.000000  \n",
       "25%         40.000000  \n",
       "50%         40.000000  \n",
       "75%         45.000000  \n",
       "max         99.000000  "
      ]
     },
     "execution_count": 1,
     "metadata": {},
     "output_type": "execute_result"
    }
   ],
   "source": [
    "import pandas as pd\n",
    "\n",
    "# fetch original data\n",
    "df_original = pd.read_csv(\"https://github.com/mostly-ai/public-demo-data/raw/dev/census/census.csv.gz\")\n",
    "df_original.describe()"
   ]
  },
  {
   "cell_type": "code",
   "execution_count": 2,
   "id": "e10faf2c",
   "metadata": {},
   "outputs": [
    {
     "data": {
      "text/html": [
       "<div>\n",
       "<style scoped>\n",
       "    .dataframe tbody tr th:only-of-type {\n",
       "        vertical-align: middle;\n",
       "    }\n",
       "\n",
       "    .dataframe tbody tr th {\n",
       "        vertical-align: top;\n",
       "    }\n",
       "\n",
       "    .dataframe thead th {\n",
       "        text-align: right;\n",
       "    }\n",
       "</style>\n",
       "<table border=\"1\" class=\"dataframe\">\n",
       "  <thead>\n",
       "    <tr style=\"text-align: right;\">\n",
       "      <th></th>\n",
       "      <th>age</th>\n",
       "      <th>workclass</th>\n",
       "      <th>fnlwgt</th>\n",
       "      <th>education</th>\n",
       "      <th>education_num</th>\n",
       "      <th>marital_status</th>\n",
       "      <th>occupation</th>\n",
       "      <th>relationship</th>\n",
       "      <th>race</th>\n",
       "      <th>sex</th>\n",
       "      <th>capital_gain</th>\n",
       "      <th>capital_loss</th>\n",
       "      <th>hours_per_week</th>\n",
       "      <th>native_country</th>\n",
       "      <th>income</th>\n",
       "    </tr>\n",
       "  </thead>\n",
       "  <tbody>\n",
       "    <tr>\n",
       "      <th>0</th>\n",
       "      <td>39</td>\n",
       "      <td>State-gov</td>\n",
       "      <td>77516</td>\n",
       "      <td>Bachelors</td>\n",
       "      <td>13</td>\n",
       "      <td>Never-married</td>\n",
       "      <td>Adm-clerical</td>\n",
       "      <td>Not-in-family</td>\n",
       "      <td>White</td>\n",
       "      <td>Male</td>\n",
       "      <td>2174</td>\n",
       "      <td>0</td>\n",
       "      <td>40</td>\n",
       "      <td>United-States</td>\n",
       "      <td>&lt;=50K</td>\n",
       "    </tr>\n",
       "    <tr>\n",
       "      <th>1</th>\n",
       "      <td>50</td>\n",
       "      <td>Self-emp-not-inc</td>\n",
       "      <td>83311</td>\n",
       "      <td>Bachelors</td>\n",
       "      <td>13</td>\n",
       "      <td>Married-civ-spouse</td>\n",
       "      <td>Exec-managerial</td>\n",
       "      <td>Husband</td>\n",
       "      <td>White</td>\n",
       "      <td>Male</td>\n",
       "      <td>0</td>\n",
       "      <td>0</td>\n",
       "      <td>13</td>\n",
       "      <td>United-States</td>\n",
       "      <td>&lt;=50K</td>\n",
       "    </tr>\n",
       "    <tr>\n",
       "      <th>2</th>\n",
       "      <td>38</td>\n",
       "      <td>Private</td>\n",
       "      <td>215646</td>\n",
       "      <td>HS-grad</td>\n",
       "      <td>9</td>\n",
       "      <td>Divorced</td>\n",
       "      <td>Handlers-cleaners</td>\n",
       "      <td>Not-in-family</td>\n",
       "      <td>White</td>\n",
       "      <td>Male</td>\n",
       "      <td>0</td>\n",
       "      <td>0</td>\n",
       "      <td>40</td>\n",
       "      <td>United-States</td>\n",
       "      <td>&lt;=50K</td>\n",
       "    </tr>\n",
       "  </tbody>\n",
       "</table>\n",
       "</div>"
      ],
      "text/plain": [
       "   age         workclass  fnlwgt  education  education_num  \\\n",
       "0   39         State-gov   77516  Bachelors             13   \n",
       "1   50  Self-emp-not-inc   83311  Bachelors             13   \n",
       "2   38           Private  215646    HS-grad              9   \n",
       "\n",
       "       marital_status         occupation   relationship   race   sex  \\\n",
       "0       Never-married       Adm-clerical  Not-in-family  White  Male   \n",
       "1  Married-civ-spouse    Exec-managerial        Husband  White  Male   \n",
       "2            Divorced  Handlers-cleaners  Not-in-family  White  Male   \n",
       "\n",
       "   capital_gain  capital_loss  hours_per_week native_country income  \n",
       "0          2174             0              40  United-States  <=50K  \n",
       "1             0             0              13  United-States  <=50K  \n",
       "2             0             0              40  United-States  <=50K  "
      ]
     },
     "execution_count": 2,
     "metadata": {},
     "output_type": "execute_result"
    }
   ],
   "source": [
    "df_original.head(3)"
   ]
  },
  {
   "cell_type": "code",
   "execution_count": 3,
   "id": "5d6c98d7",
   "metadata": {},
   "outputs": [
    {
     "data": {
      "text/plain": [
       "(48842, 15)"
      ]
     },
     "execution_count": 3,
     "metadata": {},
     "output_type": "execute_result"
    }
   ],
   "source": [
    "df_original.shape"
   ]
  },
  {
   "cell_type": "code",
   "execution_count": 4,
   "id": "b888fd84",
   "metadata": {},
   "outputs": [
    {
     "data": {
      "text/plain": [
       "((39073, 15), (9769, 15))"
      ]
     },
     "execution_count": 4,
     "metadata": {},
     "output_type": "execute_result"
    }
   ],
   "source": [
    "from sklearn.model_selection import train_test_split\n",
    "\n",
    "df, df_ho = train_test_split(df_original, test_size=0.2, random_state=42)\n",
    "df.shape, df_ho.shape"
   ]
  },
  {
   "cell_type": "markdown",
   "id": "5c15f89f-0fa6-417b-8048-589be5f651f3",
   "metadata": {},
   "source": [
    "### Train Generators with and without Differential Privacy\n",
    "\n",
    "The goal of this section is to evaluate the impact that DP has in accuracy for different privacy budgets and mechanisms."
   ]
  },
  {
   "cell_type": "code",
   "execution_count": 5,
   "id": "c8c4a141-d2b5-491d-9406-dc5ae498402c",
   "metadata": {},
   "outputs": [
    {
     "data": {
      "text/html": [
       "<pre style=\"white-space:pre;overflow-x:auto;line-height:normal;font-family:Menlo,'DejaVu Sans Mono',consolas,'Courier New',monospace\">Initializing <span style=\"font-weight: bold\">Synthetic Data SDK</span> <span style=\"color: #008080; text-decoration-color: #008080; font-weight: bold\">5.2</span>.<span style=\"color: #008080; text-decoration-color: #008080; font-weight: bold\">4</span> in <span style=\"font-weight: bold\">LOCAL mode</span> 🏠\n",
       "</pre>\n"
      ],
      "text/plain": [
       "Initializing \u001b[1mSynthetic Data SDK\u001b[0m \u001b[1;36m5.2\u001b[0m.\u001b[1;36m4\u001b[0m in \u001b[1mLOCAL mode\u001b[0m 🏠\n"
      ]
     },
     "metadata": {},
     "output_type": "display_data"
    },
    {
     "data": {
      "text/html": [
       "<pre style=\"white-space:pre;overflow-x:auto;line-height:normal;font-family:Menlo,'DejaVu Sans Mono',consolas,'Courier New',monospace\">Connected to <a href=\"file:///Users/mariana/mostlyai\" target=\"_blank\"><span style=\"color: #005fff; text-decoration-color: #005fff; text-decoration: underline\">/Users/mariana/mostlyai</span></a> with <span style=\"color: #008080; text-decoration-color: #008080; font-weight: bold\">16</span> GB RAM, <span style=\"color: #008080; text-decoration-color: #008080; font-weight: bold\">8</span> CPUs, <span style=\"color: #008080; text-decoration-color: #008080; font-weight: bold\">0</span> GPUs available\n",
       "</pre>\n"
      ],
      "text/plain": [
       "Connected to \u001b]8;id=500386;file:///Users/mariana/mostlyai\u001b\\\u001b[4;38;5;27m/Users/mariana/\u001b[0m\u001b]8;;\u001b\\\u001b]8;id=105944;file:///Users/mariana/mostlyai\u001b\\\u001b[4;38;5;27mmostlyai\u001b[0m\u001b]8;;\u001b\\ with \u001b[1;36m16\u001b[0m GB RAM, \u001b[1;36m8\u001b[0m CPUs, \u001b[1;36m0\u001b[0m GPUs available\n"
      ]
     },
     "metadata": {},
     "output_type": "display_data"
    }
   ],
   "source": [
    "from mostlyai.sdk import MostlyAI\n",
    "\n",
    "# initialize SDK\n",
    "mostly = MostlyAI(local=True)"
   ]
  },
  {
   "cell_type": "markdown",
   "id": "6f40d343-4475-4d59-8bde-e8952f360ef0",
   "metadata": {},
   "source": [
    "#### Train a generator without DP until fully converged"
   ]
  },
  {
   "cell_type": "code",
   "execution_count": 6,
   "id": "8b4e3570",
   "metadata": {},
   "outputs": [],
   "source": [
    "df = df.sample(10000)  # We take a smaller sample to speed up the training"
   ]
  },
  {
   "cell_type": "code",
   "execution_count": 7,
   "id": "d5b6d500-5bf5-4902-8bc5-828bc6864c3b",
   "metadata": {},
   "outputs": [
    {
     "data": {
      "text/html": [
       "<pre style=\"white-space:pre;overflow-x:auto;line-height:normal;font-family:Menlo,'DejaVu Sans Mono',consolas,'Courier New',monospace\">Created generator <span style=\"color: #005fff; text-decoration-color: #005fff\">dc9c5193-0198-4c9e-bd57-02ff99ee8f51</span>\n",
       "</pre>\n"
      ],
      "text/plain": [
       "Created generator \u001b[38;5;27mdc9c5193-0198-4c9e-bd57-02ff99ee8f51\u001b[0m\n"
      ]
     },
     "metadata": {},
     "output_type": "display_data"
    },
    {
     "data": {
      "text/html": [
       "<pre style=\"white-space:pre;overflow-x:auto;line-height:normal;font-family:Menlo,'DejaVu Sans Mono',consolas,'Courier New',monospace\">Started generator training\n",
       "</pre>\n"
      ],
      "text/plain": [
       "Started generator training\n"
      ]
     },
     "metadata": {},
     "output_type": "display_data"
    },
    {
     "data": {
      "text/html": [
       "<pre style=\"white-space:pre;overflow-x:auto;line-height:normal;font-family:Menlo,'DejaVu Sans Mono',consolas,'Courier New',monospace\">🎉 <span style=\"color: #008000; text-decoration-color: #008000; font-weight: bold\">Your generator is ready!</span> Use it to create synthetic data. Publish it so others can do the same.\n",
       "</pre>\n"
      ],
      "text/plain": [
       "🎉 \u001b[1;32mYour generator is ready!\u001b[0m Use it to create synthetic data. Publish it so others can do the same.\n"
      ]
     },
     "metadata": {},
     "output_type": "display_data"
    }
   ],
   "source": [
    "g_no_dp = mostly.train(\n",
    "    config={\n",
    "        \"name\": \"US Census without DP - full\",\n",
    "        \"tables\": [\n",
    "            {\n",
    "                \"name\": \"census\",\n",
    "                \"data\": df,\n",
    "            }\n",
    "        ],\n",
    "    },\n",
    "    progress_bar=False,\n",
    ")"
   ]
  },
  {
   "cell_type": "markdown",
   "id": "2e35b1f8-7abe-472b-a83a-1b05ac785225",
   "metadata": {},
   "source": [
    "#### Train generators with DP\n",
    "\n",
    "Let's train generators with different values of ε."
   ]
  },
  {
   "cell_type": "code",
   "execution_count": 8,
   "id": "19ae87e6-7431-488c-8aed-b612fe6b88b1",
   "metadata": {},
   "outputs": [
    {
     "data": {
      "text/html": [
       "<pre style=\"white-space:pre;overflow-x:auto;line-height:normal;font-family:Menlo,'DejaVu Sans Mono',consolas,'Courier New',monospace\">Created generator <span style=\"color: #005fff; text-decoration-color: #005fff\">d8269ddb-d164-4100-87d3-8b547de71d7e</span>\n",
       "</pre>\n"
      ],
      "text/plain": [
       "Created generator \u001b[38;5;27md8269ddb-d164-4100-87d3-8b547de71d7e\u001b[0m\n"
      ]
     },
     "metadata": {},
     "output_type": "display_data"
    },
    {
     "data": {
      "text/html": [
       "<pre style=\"white-space:pre;overflow-x:auto;line-height:normal;font-family:Menlo,'DejaVu Sans Mono',consolas,'Courier New',monospace\">Started generator training\n",
       "</pre>\n"
      ],
      "text/plain": [
       "Started generator training\n"
      ]
     },
     "metadata": {},
     "output_type": "display_data"
    },
    {
     "data": {
      "text/html": [
       "<pre style=\"white-space:pre;overflow-x:auto;line-height:normal;font-family:Menlo,'DejaVu Sans Mono',consolas,'Courier New',monospace\">🎉 <span style=\"color: #008000; text-decoration-color: #008000; font-weight: bold\">Your generator is ready!</span> Use it to create synthetic data. Publish it so others can do the same.\n",
       "</pre>\n"
      ],
      "text/plain": [
       "🎉 \u001b[1;32mYour generator is ready!\u001b[0m Use it to create synthetic data. Publish it so others can do the same.\n"
      ]
     },
     "metadata": {},
     "output_type": "display_data"
    },
    {
     "data": {
      "text/html": [
       "<pre style=\"white-space:pre;overflow-x:auto;line-height:normal;font-family:Menlo,'DejaVu Sans Mono',consolas,'Courier New',monospace\">Created generator <span style=\"color: #005fff; text-decoration-color: #005fff\">237cba4d-aecc-42f2-a991-142838f88e18</span>\n",
       "</pre>\n"
      ],
      "text/plain": [
       "Created generator \u001b[38;5;27m237cba4d-aecc-42f2-a991-142838f88e18\u001b[0m\n"
      ]
     },
     "metadata": {},
     "output_type": "display_data"
    },
    {
     "data": {
      "text/html": [
       "<pre style=\"white-space:pre;overflow-x:auto;line-height:normal;font-family:Menlo,'DejaVu Sans Mono',consolas,'Courier New',monospace\">Started generator training\n",
       "</pre>\n"
      ],
      "text/plain": [
       "Started generator training\n"
      ]
     },
     "metadata": {},
     "output_type": "display_data"
    },
    {
     "data": {
      "text/html": [
       "<pre style=\"white-space:pre;overflow-x:auto;line-height:normal;font-family:Menlo,'DejaVu Sans Mono',consolas,'Courier New',monospace\">🎉 <span style=\"color: #008000; text-decoration-color: #008000; font-weight: bold\">Your generator is ready!</span> Use it to create synthetic data. Publish it so others can do the same.\n",
       "</pre>\n"
      ],
      "text/plain": [
       "🎉 \u001b[1;32mYour generator is ready!\u001b[0m Use it to create synthetic data. Publish it so others can do the same.\n"
      ]
     },
     "metadata": {},
     "output_type": "display_data"
    },
    {
     "data": {
      "text/html": [
       "<pre style=\"white-space:pre;overflow-x:auto;line-height:normal;font-family:Menlo,'DejaVu Sans Mono',consolas,'Courier New',monospace\">Created generator <span style=\"color: #005fff; text-decoration-color: #005fff\">3f06bd38-fccf-46ab-aa88-0bb7bf8069a0</span>\n",
       "</pre>\n"
      ],
      "text/plain": [
       "Created generator \u001b[38;5;27m3f06bd38-fccf-46ab-aa88-0bb7bf8069a0\u001b[0m\n"
      ]
     },
     "metadata": {},
     "output_type": "display_data"
    },
    {
     "data": {
      "text/html": [
       "<pre style=\"white-space:pre;overflow-x:auto;line-height:normal;font-family:Menlo,'DejaVu Sans Mono',consolas,'Courier New',monospace\">Started generator training\n",
       "</pre>\n"
      ],
      "text/plain": [
       "Started generator training\n"
      ]
     },
     "metadata": {},
     "output_type": "display_data"
    },
    {
     "data": {
      "text/html": [
       "<pre style=\"white-space:pre;overflow-x:auto;line-height:normal;font-family:Menlo,'DejaVu Sans Mono',consolas,'Courier New',monospace\">🎉 <span style=\"color: #008000; text-decoration-color: #008000; font-weight: bold\">Your generator is ready!</span> Use it to create synthetic data. Publish it so others can do the same.\n",
       "</pre>\n"
      ],
      "text/plain": [
       "🎉 \u001b[1;32mYour generator is ready!\u001b[0m Use it to create synthetic data. Publish it so others can do the same.\n"
      ]
     },
     "metadata": {},
     "output_type": "display_data"
    }
   ],
   "source": [
    "dp_generators = []\n",
    "epsilons = [0.5, 1.5, 2.5]\n",
    "for epsilon in epsilons:\n",
    "    g_dp = mostly.train(\n",
    "        config={\n",
    "            \"name\": f\"Census with DP {epsilon}\",\n",
    "            \"tables\": [\n",
    "                {\n",
    "                    \"name\": \"census\",\n",
    "                    \"data\": df,\n",
    "                    \"tabular_model_configuration\": {\n",
    "                        \"differential_privacy\": {\n",
    "                            \"max_epsilon\": epsilon,\n",
    "                        },\n",
    "                    },\n",
    "                }\n",
    "            ],\n",
    "        },\n",
    "        progress_bar=False,\n",
    "    )\n",
    "    dp_generators.append(g_dp)\n"
   ]
  },
  {
   "cell_type": "markdown",
   "id": "d1eaad2e",
   "metadata": {},
   "source": [
    "#### How does the privacy budget affect the accuracy?\n",
    "\n",
    "1. Generate synthetic datasets with each generator,\n",
    "2. Measure its ML utility with the TSTR framework."
   ]
  },
  {
   "cell_type": "code",
   "execution_count": 9,
   "id": "06b35fcf",
   "metadata": {},
   "outputs": [
    {
     "data": {
      "text/html": [
       "<pre style=\"white-space:pre;overflow-x:auto;line-height:normal;font-family:Menlo,'DejaVu Sans Mono',consolas,'Courier New',monospace\">Created synthetic dataset <span style=\"color: #005fff; text-decoration-color: #005fff\">0c7cd58b-cd7e-4232-9b39-beda2ba8c348</span> with generator <span style=\"color: #005fff; text-decoration-color: #005fff\">dc9c5193-0198-4c9e-bd57-02ff99ee8f51</span>\n",
       "</pre>\n"
      ],
      "text/plain": [
       "Created synthetic dataset \u001b[38;5;27m0c7cd58b-cd7e-4232-9b39-beda2ba8c348\u001b[0m with generator \u001b[38;5;27mdc9c5193-0198-4c9e-bd57-02ff99ee8f51\u001b[0m\n"
      ]
     },
     "metadata": {},
     "output_type": "display_data"
    },
    {
     "data": {
      "text/html": [
       "<pre style=\"white-space:pre;overflow-x:auto;line-height:normal;font-family:Menlo,'DejaVu Sans Mono',consolas,'Courier New',monospace\">Started synthetic dataset generation\n",
       "</pre>\n"
      ],
      "text/plain": [
       "Started synthetic dataset generation\n"
      ]
     },
     "metadata": {},
     "output_type": "display_data"
    },
    {
     "data": {
      "text/html": [
       "<pre style=\"white-space:pre;overflow-x:auto;line-height:normal;font-family:Menlo,'DejaVu Sans Mono',consolas,'Courier New',monospace\">🎉 <span style=\"color: #008000; text-decoration-color: #008000; font-weight: bold\">Your synthetic dataset is ready!</span> Use it to consume the generated data. Publish it so others can do the same.\n",
       "</pre>\n"
      ],
      "text/plain": [
       "🎉 \u001b[1;32mYour synthetic dataset is ready!\u001b[0m Use it to consume the generated data. Publish it so others can do the same.\n"
      ]
     },
     "metadata": {},
     "output_type": "display_data"
    }
   ],
   "source": [
    "no_dp_gen = mostly.generate(g_no_dp, progress_bar=False)\n",
    "no_dp_synth_dataset = no_dp_gen.data()"
   ]
  },
  {
   "cell_type": "code",
   "execution_count": 10,
   "id": "c24e7eaa",
   "metadata": {},
   "outputs": [
    {
     "data": {
      "text/html": [
       "<pre style=\"white-space:pre;overflow-x:auto;line-height:normal;font-family:Menlo,'DejaVu Sans Mono',consolas,'Courier New',monospace\">Created synthetic dataset <span style=\"color: #005fff; text-decoration-color: #005fff\">a119c283-ec1e-4cdb-99c4-9aca54549132</span> with generator <span style=\"color: #005fff; text-decoration-color: #005fff\">d8269ddb-d164-4100-87d3-8b547de71d7e</span>\n",
       "</pre>\n"
      ],
      "text/plain": [
       "Created synthetic dataset \u001b[38;5;27ma119c283-ec1e-4cdb-99c4-9aca54549132\u001b[0m with generator \u001b[38;5;27md8269ddb-d164-4100-87d3-8b547de71d7e\u001b[0m\n"
      ]
     },
     "metadata": {},
     "output_type": "display_data"
    },
    {
     "data": {
      "text/html": [
       "<pre style=\"white-space:pre;overflow-x:auto;line-height:normal;font-family:Menlo,'DejaVu Sans Mono',consolas,'Courier New',monospace\">Started synthetic dataset generation\n",
       "</pre>\n"
      ],
      "text/plain": [
       "Started synthetic dataset generation\n"
      ]
     },
     "metadata": {},
     "output_type": "display_data"
    },
    {
     "data": {
      "text/html": [
       "<pre style=\"white-space:pre;overflow-x:auto;line-height:normal;font-family:Menlo,'DejaVu Sans Mono',consolas,'Courier New',monospace\">🎉 <span style=\"color: #008000; text-decoration-color: #008000; font-weight: bold\">Your synthetic dataset is ready!</span> Use it to consume the generated data. Publish it so others can do the same.\n",
       "</pre>\n"
      ],
      "text/plain": [
       "🎉 \u001b[1;32mYour synthetic dataset is ready!\u001b[0m Use it to consume the generated data. Publish it so others can do the same.\n"
      ]
     },
     "metadata": {},
     "output_type": "display_data"
    },
    {
     "data": {
      "text/html": [
       "<pre style=\"white-space:pre;overflow-x:auto;line-height:normal;font-family:Menlo,'DejaVu Sans Mono',consolas,'Courier New',monospace\">Created synthetic dataset <span style=\"color: #005fff; text-decoration-color: #005fff\">b546b138-6542-40f6-b156-e12f335327f2</span> with generator <span style=\"color: #005fff; text-decoration-color: #005fff\">237cba4d-aecc-42f2-a991-142838f88e18</span>\n",
       "</pre>\n"
      ],
      "text/plain": [
       "Created synthetic dataset \u001b[38;5;27mb546b138-6542-40f6-b156-e12f335327f2\u001b[0m with generator \u001b[38;5;27m237cba4d-aecc-42f2-a991-142838f88e18\u001b[0m\n"
      ]
     },
     "metadata": {},
     "output_type": "display_data"
    },
    {
     "data": {
      "text/html": [
       "<pre style=\"white-space:pre;overflow-x:auto;line-height:normal;font-family:Menlo,'DejaVu Sans Mono',consolas,'Courier New',monospace\">Started synthetic dataset generation\n",
       "</pre>\n"
      ],
      "text/plain": [
       "Started synthetic dataset generation\n"
      ]
     },
     "metadata": {},
     "output_type": "display_data"
    },
    {
     "data": {
      "text/html": [
       "<pre style=\"white-space:pre;overflow-x:auto;line-height:normal;font-family:Menlo,'DejaVu Sans Mono',consolas,'Courier New',monospace\">🎉 <span style=\"color: #008000; text-decoration-color: #008000; font-weight: bold\">Your synthetic dataset is ready!</span> Use it to consume the generated data. Publish it so others can do the same.\n",
       "</pre>\n"
      ],
      "text/plain": [
       "🎉 \u001b[1;32mYour synthetic dataset is ready!\u001b[0m Use it to consume the generated data. Publish it so others can do the same.\n"
      ]
     },
     "metadata": {},
     "output_type": "display_data"
    },
    {
     "data": {
      "text/html": [
       "<pre style=\"white-space:pre;overflow-x:auto;line-height:normal;font-family:Menlo,'DejaVu Sans Mono',consolas,'Courier New',monospace\">Created synthetic dataset <span style=\"color: #005fff; text-decoration-color: #005fff\">23c01650-6612-4448-a016-74261eaba5d7</span> with generator <span style=\"color: #005fff; text-decoration-color: #005fff\">3f06bd38-fccf-46ab-aa88-0bb7bf8069a0</span>\n",
       "</pre>\n"
      ],
      "text/plain": [
       "Created synthetic dataset \u001b[38;5;27m23c01650-6612-4448-a016-74261eaba5d7\u001b[0m with generator \u001b[38;5;27m3f06bd38-fccf-46ab-aa88-0bb7bf8069a0\u001b[0m\n"
      ]
     },
     "metadata": {},
     "output_type": "display_data"
    },
    {
     "data": {
      "text/html": [
       "<pre style=\"white-space:pre;overflow-x:auto;line-height:normal;font-family:Menlo,'DejaVu Sans Mono',consolas,'Courier New',monospace\">Started synthetic dataset generation\n",
       "</pre>\n"
      ],
      "text/plain": [
       "Started synthetic dataset generation\n"
      ]
     },
     "metadata": {},
     "output_type": "display_data"
    },
    {
     "data": {
      "text/html": [
       "<pre style=\"white-space:pre;overflow-x:auto;line-height:normal;font-family:Menlo,'DejaVu Sans Mono',consolas,'Courier New',monospace\">🎉 <span style=\"color: #008000; text-decoration-color: #008000; font-weight: bold\">Your synthetic dataset is ready!</span> Use it to consume the generated data. Publish it so others can do the same.\n",
       "</pre>\n"
      ],
      "text/plain": [
       "🎉 \u001b[1;32mYour synthetic dataset is ready!\u001b[0m Use it to consume the generated data. Publish it so others can do the same.\n"
      ]
     },
     "metadata": {},
     "output_type": "display_data"
    }
   ],
   "source": [
    "dp_synth_datasets = [mostly.generate(g, progress_bar=False) for g in dp_generators]"
   ]
  },
  {
   "cell_type": "code",
   "execution_count": 11,
   "id": "b9a48b7b",
   "metadata": {},
   "outputs": [],
   "source": [
    "dp_synth_datasets = [dataset.data() for dataset in dp_synth_datasets]"
   ]
  },
  {
   "cell_type": "code",
   "execution_count": 12,
   "id": "8b80aaa4",
   "metadata": {},
   "outputs": [],
   "source": [
    "from sklearn.compose import ColumnTransformer\n",
    "from sklearn.preprocessing import OneHotEncoder\n",
    "from sklearn.pipeline import Pipeline\n",
    "from sklearn.preprocessing import StandardScaler as SkStandardScaler\n",
    "from sklearn.linear_model import LogisticRegression\n",
    "from sklearn.metrics import classification_report"
   ]
  },
  {
   "cell_type": "code",
   "execution_count": 13,
   "id": "c5b46f7a",
   "metadata": {},
   "outputs": [],
   "source": [
    "numeric_features = ['age', 'capital_gain', 'capital_loss', 'hours_per_week', 'fnlwgt']\n",
    "categorical_features = ['workclass', 'education', 'marital_status', 'occupation', 'relationship', 'race', 'sex', 'native_country']"
   ]
  },
  {
   "cell_type": "code",
   "execution_count": 14,
   "id": "30eabe4e",
   "metadata": {},
   "outputs": [],
   "source": [
    "y_true = df_ho['income']\n",
    "X_true = df_ho.drop(columns=['income'])"
   ]
  },
  {
   "cell_type": "code",
   "execution_count": 15,
   "id": "df95bd45",
   "metadata": {},
   "outputs": [],
   "source": [
    "def run_tstr(synthetic_df):\n",
    "    syn_subset = synthetic_df.dropna()\n",
    "    if syn_subset.empty:\n",
    "        raise ValueError('Synthetic data became empty after dropping NAs; check the configuration.')\n",
    "\n",
    "    y_syn = syn_subset['income']\n",
    "    X_syn = syn_subset.drop(columns=['income'])\n",
    "\n",
    "    preprocessor = ColumnTransformer(\n",
    "        transformers=[\n",
    "            ('num', SkStandardScaler(), numeric_features),\n",
    "            ('cat', OneHotEncoder(handle_unknown='ignore'), categorical_features),\n",
    "        ]\n",
    "    )\n",
    "\n",
    "    clf = Pipeline(steps=[\n",
    "        ('preprocessor', preprocessor),\n",
    "        ('classifier', LogisticRegression(max_iter=500))\n",
    "    ])\n",
    "\n",
    "    clf.fit(X_syn, y_syn)\n",
    "    y_pred = clf.predict(X_true)\n",
    "\n",
    "    report = classification_report(y_true, y_pred, digits=3, output_dict=True)\n",
    "\n",
    "    return clf, report"
   ]
  },
  {
   "cell_type": "markdown",
   "id": "9f8416bd",
   "metadata": {},
   "source": [
    "We evaluate the dataset generated without DP first"
   ]
  },
  {
   "cell_type": "code",
   "execution_count": 16,
   "id": "d927d9fa",
   "metadata": {},
   "outputs": [],
   "source": [
    "_, nodp_report = run_tstr(no_dp_synth_dataset)"
   ]
  },
  {
   "cell_type": "code",
   "execution_count": 17,
   "id": "69ea9b43",
   "metadata": {},
   "outputs": [],
   "source": [
    "dp_reports = []\n",
    "for synth_df in dp_synth_datasets:\n",
    "    _, report = run_tstr(synth_df)\n",
    "    dp_reports.append(report)"
   ]
  },
  {
   "cell_type": "code",
   "execution_count": 18,
   "id": "fec75ca8",
   "metadata": {},
   "outputs": [
    {
     "data": {
      "image/png": "[encoded data removed]",
      "text/plain": [
       "<Figure size 1500x500 with 3 Axes>"
      ]
     },
     "metadata": {},
     "output_type": "display_data"
    }
   ],
   "source": [
    "import matplotlib.pyplot as plt\n",
    "import numpy as np\n",
    "\n",
    "# Set up the figure with 3 subplots\n",
    "fig, (ax1, ax2, ax3) = plt.subplots(1, 3, figsize=(15, 5))\n",
    "\n",
    "# Get metrics for each class\n",
    "classes = list(nodp_report.keys())[:-3]  # Exclude 'accuracy', 'macro avg', 'weighted avg'\n",
    "\n",
    "# Prepare data\n",
    "no_dp_metrics = {\n",
    "    'precision': [nodp_report[c]['precision'] for c in classes],\n",
    "    'recall': [nodp_report[c]['recall'] for c in classes],\n",
    "    'f1-score': [nodp_report[c]['f1-score'] for c in classes]\n",
    "}\n",
    "\n",
    "dp_metrics = {\n",
    "    'precision': [[report[c]['precision'] for c in classes] for report in dp_reports],\n",
    "    'recall': [[report[c]['recall'] for c in classes] for report in dp_reports],\n",
    "    'f1-score': [[report[c]['f1-score'] for c in classes] for report in dp_reports]\n",
    "}\n",
    "\n",
    "# Plot settings\n",
    "x = np.arange(len(classes))\n",
    "width = 0.15\n",
    "multiplier = 0\n",
    "\n",
    "# Plot precision\n",
    "ax1.bar(x + width * multiplier, no_dp_metrics['precision'], width, label='No DP')\n",
    "multiplier += 1\n",
    "\n",
    "for i, dp_results in enumerate(dp_metrics['precision']):\n",
    "    ax1.bar(x + width * multiplier, dp_results, width, label=f'DP ε={epsilons[i]}')\n",
    "    multiplier += 1\n",
    "\n",
    "ax1.set_ylabel('Precision')\n",
    "ax1.set_title('Precision by Class')\n",
    "ax1.set_xticks(x + width * 2)\n",
    "ax1.set_xticklabels(classes)\n",
    "ax1.legend(loc='best')\n",
    "\n",
    "# Reset multiplier for recall plot\n",
    "multiplier = 0\n",
    "\n",
    "# Plot recall\n",
    "ax2.bar(x + width * multiplier, no_dp_metrics['recall'], width, label='No DP')\n",
    "multiplier += 1\n",
    "\n",
    "for i, dp_results in enumerate(dp_metrics['recall']):\n",
    "    ax2.bar(x + width * multiplier, dp_results, width, label=f'DP ε={epsilons[i]}')\n",
    "    multiplier += 1\n",
    "\n",
    "ax2.set_ylabel('Recall')\n",
    "ax2.set_title('Recall by Class')\n",
    "ax2.set_xticks(x + width * 2)\n",
    "ax2.set_xticklabels(classes)\n",
    "ax2.legend(loc='best')\n",
    "\n",
    "# Reset multiplier for f1 plot\n",
    "multiplier = 0\n",
    "\n",
    "# Plot f1-score\n",
    "ax3.bar(x + width * multiplier, no_dp_metrics['f1-score'], width, label='No DP')\n",
    "multiplier += 1\n",
    "\n",
    "for i, dp_results in enumerate(dp_metrics['f1-score']):\n",
    "    ax3.bar(x + width * multiplier, dp_results, width, label=f'DP ε={epsilons[i]}')\n",
    "    multiplier += 1\n",
    "\n",
    "ax3.set_ylabel('F1-Score')\n",
    "ax3.set_title('F1-Score by Class')\n",
    "ax3.set_xticks(x + width * 2)\n",
    "ax3.set_xticklabels(classes)\n",
    "ax3.legend(loc='best')\n",
    "\n",
    "plt.tight_layout()\n",
    "plt.show()\n"
   ]
  },
  {
   "cell_type": "markdown",
   "id": "74d24259",
   "metadata": {},
   "source": [
    "**Takeaway:** There's a clear trade-off between privacy and accuracy: more privacy entails giving up on accuracy."
   ]
  },
  {
   "cell_type": "code",
   "execution_count": null,
   "id": "dd85983d",
   "metadata": {},
   "outputs": [],
   "source": []
  },
  {
   "cell_type": "markdown",
   "id": "f023fb30",
   "metadata": {},
   "source": [
    "## Fair Synthetic Data\n",
    "\n",
    "Fair ML aims at creating models that treat different groups of subjects involved in a study equitably. We'll now look into how we can bridge the fairness gap with with fair synthetic data."
   ]
  },
  {
   "cell_type": "code",
   "execution_count": 19,
   "id": "fcf340a3",
   "metadata": {},
   "outputs": [],
   "source": [
    "hol = df_ho.reset_index(drop=True, inplace=True)"
   ]
  },
  {
   "cell_type": "code",
   "execution_count": 20,
   "id": "fd2c0074",
   "metadata": {},
   "outputs": [
    {
     "data": {
      "image/png": "[encoded data removed]",
      "text/plain": [
       "<Figure size 1000x600 with 1 Axes>"
      ]
     },
     "metadata": {},
     "output_type": "display_data"
    }
   ],
   "source": [
    "def plot_income_by_gender(df, title):\n",
    "    # Create a bar plot for the distribution of income for males and females\n",
    "    plt.figure(figsize=(10, 6))\n",
    "    income_gender_distribution = df.groupby([\"sex\", \"income\"]).size().unstack()\n",
    "    income_gender_proportions = (\n",
    "        income_gender_distribution.div(income_gender_distribution.sum(axis=1), axis=0) * 100\n",
    "    )  # Convert to percentages\n",
    "\n",
    "    # Customizing the plot\n",
    "    ax = income_gender_proportions.plot(kind=\"bar\", stacked=True, ax=plt.gca())\n",
    "    ax.spines[\"top\"].set_visible(False)\n",
    "    ax.spines[\"right\"].set_visible(False)\n",
    "\n",
    "    # Adding title and labels\n",
    "    plt.title(f\"Distribution of Income by Gender - {title}\", fontsize=16, weight=\"bold\")\n",
    "    plt.xlabel(\"Gender\", fontsize=14)\n",
    "    plt.ylabel(\"Share (%)\", fontsize=14)\n",
    "    plt.xticks(rotation=0, fontsize=12)\n",
    "    plt.yticks(fontsize=12)\n",
    "    plt.legend(title=\"Income\", fontsize=12, title_fontsize=14, loc=\"upper right\")\n",
    "\n",
    "    # Adding data labels\n",
    "    for bar_group in ax.containers:\n",
    "        ax.bar_label(bar_group, fmt=\"%.1f%%\", label_type=\"center\", fontsize=10)\n",
    "\n",
    "    plt.show()\n",
    "\n",
    "\n",
    "plot_income_by_gender(df, title=\"Original\")"
   ]
  },
  {
   "cell_type": "markdown",
   "id": "f4205da2",
   "metadata": {},
   "source": [
    "### Synthesize Data via MOSTLY AI\n",
    "\n",
    "The code below will automatically create a Generator using the MOSTLY AI Synthetic Data SDK. Then we will use that Generator to create both, Synthetic dataset and Fair Synthetic dataset with turned on Fairness feature for the target `income` column and sensitive `sex` column."
   ]
  },
  {
   "cell_type": "code",
   "execution_count": 21,
   "id": "ce49e51c",
   "metadata": {},
   "outputs": [
    {
     "data": {
      "text/html": [
       "<pre style=\"white-space:pre;overflow-x:auto;line-height:normal;font-family:Menlo,'DejaVu Sans Mono',consolas,'Courier New',monospace\">Created synthetic dataset <span style=\"color: #005fff; text-decoration-color: #005fff\">0cb371dc-43be-4bf5-8a5e-581aca7b4f83</span> with generator <span style=\"color: #005fff; text-decoration-color: #005fff\">dc9c5193-0198-4c9e-bd57-02ff99ee8f51</span>\n",
       "</pre>\n"
      ],
      "text/plain": [
       "Created synthetic dataset \u001b[38;5;27m0cb371dc-43be-4bf5-8a5e-581aca7b4f83\u001b[0m with generator \u001b[38;5;27mdc9c5193-0198-4c9e-bd57-02ff99ee8f51\u001b[0m\n"
      ]
     },
     "metadata": {},
     "output_type": "display_data"
    },
    {
     "data": {
      "text/html": [
       "<pre style=\"white-space:pre;overflow-x:auto;line-height:normal;font-family:Menlo,'DejaVu Sans Mono',consolas,'Courier New',monospace\">Started synthetic dataset generation\n",
       "</pre>\n"
      ],
      "text/plain": [
       "Started synthetic dataset generation\n"
      ]
     },
     "metadata": {},
     "output_type": "display_data"
    },
    {
     "data": {
      "application/vnd.jupyter.widget-view+json": {
       "model_id": "9bf6412767af4d1daf2be51b07821173",
       "version_major": 2,
       "version_minor": 0
      },
      "text/plain": [
       "Output()"
      ]
     },
     "metadata": {},
     "output_type": "display_data"
    },
    {
     "data": {
      "text/html": [
       "<pre style=\"white-space:pre;overflow-x:auto;line-height:normal;font-family:Menlo,'DejaVu Sans Mono',consolas,'Courier New',monospace\"></pre>\n"
      ],
      "text/plain": []
     },
     "metadata": {},
     "output_type": "display_data"
    },
    {
     "data": {
      "text/html": [
       "<pre style=\"white-space:pre;overflow-x:auto;line-height:normal;font-family:Menlo,'DejaVu Sans Mono',consolas,'Courier New',monospace\">🎉 <span style=\"color: #008000; text-decoration-color: #008000; font-weight: bold\">Your synthetic dataset is ready!</span> Use it to consume the generated data. Publish it so others can do the same.\n",
       "</pre>\n"
      ],
      "text/plain": [
       "🎉 \u001b[1;32mYour synthetic dataset is ready!\u001b[0m Use it to consume the generated data. Publish it so others can do the same.\n"
      ]
     },
     "metadata": {},
     "output_type": "display_data"
    }
   ],
   "source": [
    "# Define the fairness configuration\n",
    "fairness_config = {\n",
    "    \"name\": \"Fairness Tutorial - Fair Synthetic Data\",\n",
    "    \"tables\": [\n",
    "        {\n",
    "            \"name\": \"census\",\n",
    "            \"configuration\": {\n",
    "                \"fairness\": {\n",
    "                    \"target_column\": \"income\",  # define fairness target\n",
    "                    \"sensitive_columns\": [\"sex\"],  # define sensitive columns\n",
    "                }\n",
    "            },\n",
    "        }\n",
    "    ],\n",
    "}\n",
    "\n",
    "# create fair synthetic data with mitigated bias\n",
    "fair_sd = mostly.generate(g_no_dp, config=fairness_config)\n",
    "fair_syn = fair_sd.data()"
   ]
  },
  {
   "cell_type": "code",
   "execution_count": 22,
   "id": "85e3e807",
   "metadata": {},
   "outputs": [
    {
     "data": {
      "image/png": "[encoded data removed]",
      "text/plain": [
       "<Figure size 1000x600 with 1 Axes>"
      ]
     },
     "metadata": {},
     "output_type": "display_data"
    }
   ],
   "source": [
    "plot_income_by_gender(no_dp_synth_dataset, \"Representative Synthetic Data\")"
   ]
  },
  {
   "cell_type": "code",
   "execution_count": 23,
   "id": "d88d4aa8",
   "metadata": {},
   "outputs": [
    {
     "data": {
      "image/png": "[encoded data removed]",
      "text/plain": [
       "<Figure size 1000x600 with 1 Axes>"
      ]
     },
     "metadata": {},
     "output_type": "display_data"
    }
   ],
   "source": [
    "plot_income_by_gender(fair_syn, \"Fair Synthetic Data\")"
   ]
  },
  {
   "cell_type": "markdown",
   "id": "7aceab4c",
   "metadata": {},
   "source": [
    "Statistical parity difference is mitigated for the fair synthetic dataset, i.e. the proportion of females and mals with high income is comparable."
   ]
  },
  {
   "cell_type": "markdown",
   "id": "a27cb6ee",
   "metadata": {},
   "source": [
    "### Train a Downstream ML Model\n",
    "\n",
    "We can compare the model prediction using downstream prediction model on the original, synthetic data and fair synthetic data."
   ]
  },
  {
   "cell_type": "code",
   "execution_count": 24,
   "id": "61a9c550",
   "metadata": {},
   "outputs": [],
   "source": [
    "from sklearn.linear_model import LogisticRegression\n",
    "from sklearn.metrics import classification_report\n",
    "from sklearn.pipeline import Pipeline\n",
    "from sklearn.compose import ColumnTransformer\n",
    "from sklearn.metrics import accuracy_score, f1_score, roc_auc_score\n",
    "from sklearn.pipeline import Pipeline\n",
    "from sklearn.preprocessing import MinMaxScaler, OneHotEncoder"
   ]
  },
  {
   "cell_type": "code",
   "execution_count": 25,
   "id": "aad3230d",
   "metadata": {},
   "outputs": [],
   "source": [
    "# Some renaming\n",
    "trn = df\n",
    "syn = no_dp_synth_dataset\n",
    "hol = df_ho"
   ]
  },
  {
   "cell_type": "code",
   "execution_count": 26,
   "id": "5f40343d",
   "metadata": {},
   "outputs": [],
   "source": [
    "trn_fns = [\"original\", \"synthetic\", \"fair synthetic\"]\n",
    "\n",
    "y_hol = (hol.pop(\"income\") == \">50K\").astype(int)\n",
    "X_hol = hol\n",
    "\n",
    "cat_cols = hol.columns[X_hol.dtypes == \"object\"].tolist()\n",
    "num_cols = hol.columns[X_hol.dtypes == \"int64\"].tolist()\n",
    "ct = ColumnTransformer([(\"c\", OneHotEncoder(handle_unknown=\"ignore\"), cat_cols), (\"n\", MinMaxScaler(), num_cols)])\n",
    "model = LogisticRegression(max_iter=500)\n",
    "pipe = Pipeline(steps=[(\"t\", ct), (\"m\", model)])\n",
    "\n",
    "res = []\n",
    "predicted_probs = pd.DataFrame()\n",
    "for trn_fn, trn in zip(trn_fns, [trn, syn, fair_syn]):\n",
    "    y_trn = (trn.pop(\"income\") == \">50K\").astype(int)\n",
    "    X_trn = trn\n",
    "    pipe.fit(X_trn, y_trn)\n",
    "    probs = pipe.predict_proba(X_hol)[:, 1]\n",
    "    predicted_probs[trn_fn] = probs\n",
    "    res.append(\n",
    "        {\n",
    "            \"AUC\": roc_auc_score(y_hol, probs),\n",
    "            \"Accuracy\": accuracy_score(y_hol, probs > 0.5),\n",
    "            \"F1\": f1_score(y_hol, probs > 0.5, average=\"macro\"),\n",
    "            \"N\": trn.shape[0],\n",
    "            \"fn\": trn_fn,\n",
    "        }\n",
    "    )\n",
    "\n",
    "predicted_probs[\"sex\"] = hol[\"sex\"]\n",
    "predicted_probs[\"income\"] = y_hol"
   ]
  },
  {
   "cell_type": "code",
   "execution_count": 27,
   "id": "dccbfb3d",
   "metadata": {},
   "outputs": [
    {
     "data": {
      "text/html": [
       "<div>\n",
       "<style scoped>\n",
       "    .dataframe tbody tr th:only-of-type {\n",
       "        vertical-align: middle;\n",
       "    }\n",
       "\n",
       "    .dataframe tbody tr th {\n",
       "        vertical-align: top;\n",
       "    }\n",
       "\n",
       "    .dataframe thead th {\n",
       "        text-align: right;\n",
       "    }\n",
       "</style>\n",
       "<table border=\"1\" class=\"dataframe\">\n",
       "  <thead>\n",
       "    <tr style=\"text-align: right;\">\n",
       "      <th></th>\n",
       "      <th>AUC</th>\n",
       "      <th>Accuracy</th>\n",
       "      <th>F1</th>\n",
       "      <th>N</th>\n",
       "      <th>fn</th>\n",
       "      <th>SP mean difference</th>\n",
       "    </tr>\n",
       "  </thead>\n",
       "  <tbody>\n",
       "    <tr>\n",
       "      <th>0</th>\n",
       "      <td>0.897866</td>\n",
       "      <td>0.844099</td>\n",
       "      <td>0.767876</td>\n",
       "      <td>10000</td>\n",
       "      <td>original</td>\n",
       "      <td>0.195997</td>\n",
       "    </tr>\n",
       "    <tr>\n",
       "      <th>1</th>\n",
       "      <td>0.888956</td>\n",
       "      <td>0.838571</td>\n",
       "      <td>0.767239</td>\n",
       "      <td>10000</td>\n",
       "      <td>synthetic</td>\n",
       "      <td>0.214179</td>\n",
       "    </tr>\n",
       "    <tr>\n",
       "      <th>2</th>\n",
       "      <td>0.875219</td>\n",
       "      <td>0.830484</td>\n",
       "      <td>0.745597</td>\n",
       "      <td>10000</td>\n",
       "      <td>fair synthetic</td>\n",
       "      <td>0.068319</td>\n",
       "    </tr>\n",
       "  </tbody>\n",
       "</table>\n",
       "</div>"
      ],
      "text/plain": [
       "        AUC  Accuracy        F1      N              fn  SP mean difference\n",
       "0  0.897866  0.844099  0.767876  10000        original            0.195997\n",
       "1  0.888956  0.838571  0.767239  10000       synthetic            0.214179\n",
       "2  0.875219  0.830484  0.745597  10000  fair synthetic            0.068319"
      ]
     },
     "execution_count": 27,
     "metadata": {},
     "output_type": "execute_result"
    }
   ],
   "source": [
    "# sort the results based on the model performance:\n",
    "res_sort = pd.DataFrame(res, index=list(range(len(res))))\n",
    "predicted_probs[\"sex\"] = hol[\"sex\"]\n",
    "predicted_probs[\"income\"] = y_hol\n",
    "res_sort[\"SP mean difference\"] = (res_sort[\"fn\"]).map(\n",
    "    predicted_probs.groupby([\"sex\"])[trn_fns].mean().diff().iloc[1, :]\n",
    ")\n",
    "res_sort.sort_values(by=\"SP mean difference\", ascending=True)\n",
    "sorting = res_sort[\"fn\"]\n",
    "res_sort"
   ]
  },
  {
   "cell_type": "markdown",
   "id": "e9ea8d29",
   "metadata": {},
   "source": [
    "The model performance on synthetic data is comparable to that on the original data, with a similar statistical parity (SP) difference. While fair synthetic data successfully resolves the SP difference, it does so at the expense of downstream model performance, reflected in a slight decreased AUC."
   ]
  },
  {
   "cell_type": "code",
   "execution_count": 28,
   "id": "a21ae790",
   "metadata": {},
   "outputs": [
    {
     "data": {
      "image/png": "[encoded data removed]",
      "text/plain": [
       "<Figure size 1000x600 with 1 Axes>"
      ]
     },
     "metadata": {},
     "output_type": "display_data"
    }
   ],
   "source": [
    "plt.figure(figsize=(10, 6))\n",
    "plt.hist(predicted_probs[predicted_probs['sex'] == 'Male']['original'], alpha=0.5, label='Male', bins=30)\n",
    "plt.hist(predicted_probs[predicted_probs['sex'] == 'Female']['original'], alpha=0.5, label='Female', bins=30)\n",
    "plt.title('Prediction Distribution by Sex (Original)')\n",
    "plt.xlabel('Prediction Probability')\n",
    "plt.ylabel('Count')\n",
    "plt.legend()\n",
    "plt.show()"
   ]
  },
  {
   "cell_type": "code",
   "execution_count": 29,
   "id": "5842a2c2",
   "metadata": {},
   "outputs": [
    {
     "data": {
      "image/png": "[encoded data removed]",
      "text/plain": [
       "<Figure size 1000x600 with 1 Axes>"
      ]
     },
     "metadata": {},
     "output_type": "display_data"
    }
   ],
   "source": [
    "\n",
    "plt.figure(figsize=(10, 6))\n",
    "plt.hist(predicted_probs[predicted_probs['sex'] == 'Male']['synthetic'], alpha=0.5, label='Male', bins=30)\n",
    "plt.hist(predicted_probs[predicted_probs['sex'] == 'Female']['synthetic'], alpha=0.5, label='Female', bins=30)\n",
    "plt.title('Prediction Distribution by Sex (Synthetic)')\n",
    "plt.xlabel('Prediction Probability')\n",
    "plt.ylabel('Count')\n",
    "plt.legend()\n",
    "plt.show()"
   ]
  },
  {
   "cell_type": "code",
   "execution_count": 30,
   "id": "b4a621f1",
   "metadata": {},
   "outputs": [
    {
     "data": {
      "image/png": "[encoded data removed]",
      "text/plain": [
       "<Figure size 1000x600 with 1 Axes>"
      ]
     },
     "metadata": {},
     "output_type": "display_data"
    }
   ],
   "source": [
    "plt.figure(figsize=(10, 6))\n",
    "plt.hist(predicted_probs[predicted_probs['sex'] == 'Male']['fair synthetic'], alpha=0.5, label='Male', bins=30)\n",
    "plt.hist(predicted_probs[predicted_probs['sex'] == 'Female']['fair synthetic'], alpha=0.5, label='Female', bins=30)\n",
    "plt.title('Prediction Distribution by Sex (Fair Synthetic)')\n",
    "plt.xlabel('Prediction Probability')\n",
    "plt.ylabel('Count')\n",
    "plt.legend()\n",
    "plt.show()"
   ]
  },
  {
   "cell_type": "code",
   "execution_count": null,
   "id": "035a649e",
   "metadata": {},
   "outputs": [],
   "source": []
  }
 ],
 "metadata": {
  "kernelspec": {
   "display_name": "mostlyai",
   "language": "python",
   "name": "python3"
  },
  "language_info": {
   "codemirror_mode": {
    "name": "ipython",
    "version": 3
   },
   "file_extension": ".py",
   "mimetype": "text/x-python",
   "name": "python",
   "nbconvert_exporter": "python",
   "pygments_lexer": "ipython3",
   "version": "3.12.2"
  }
 },
 "nbformat": 4,
 "nbformat_minor": 5
}
