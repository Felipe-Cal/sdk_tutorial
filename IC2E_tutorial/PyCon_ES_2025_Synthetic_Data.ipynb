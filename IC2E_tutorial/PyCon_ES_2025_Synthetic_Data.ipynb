{
 "cells": [
  {
   "cell_type": "markdown",
   "id": "b04499bb",
   "metadata": {},
   "source": [
    "# No data? No problem! Genera datasets sintéticos con Python\n",
    "\n",
    "**PyCon España 2025 - Workshop (90 minutos)**\n",
    "\n",
    "## Objetivos del workshop:\n",
    "- ✅ Generar datos sintéticos realistas desde cero\n",
    "- ✅ Controlar el resultado con filtros y condiciones específicas  \n",
    "- ✅ Crear conjuntos multitabla con relaciones entre entidades\n",
    "- ✅ Evaluar la calidad y utilidad de los datos sintéticos\n",
    "- ✅ Trabajar con datos sin comprometer la privacidad\n",
    "\n",
    "**Dataset**: US Census Income  \n",
    "**SDK**: MostlyAI (open source)\n",
    "\n",
    "---\n"
   ]
  },
  {
   "cell_type": "markdown",
   "id": "23579ea2",
   "metadata": {},
   "source": [
    "## 0. Setup (2 min)\n",
    "\n",
    "Instalamos el SDK y configuramos el entorno.\n"
   ]
  },
  {
   "cell_type": "code",
   "execution_count": null,
   "id": "727f3953",
   "metadata": {},
   "outputs": [],
   "source": [
    "%pip install -U \"mostlyai[local]\" -q\n"
   ]
  },
  {
   "cell_type": "code",
   "execution_count": null,
   "id": "db82472c",
   "metadata": {},
   "outputs": [],
   "source": [
    "import pandas as pd\n",
    "import numpy as np\n",
    "import matplotlib.pyplot as plt\n",
    "from mostlyai.sdk import MostlyAI\n",
    "\n",
    "plt.style.use('default')\n",
    "plt.rcParams['figure.figsize'] = (12, 6)\n",
    "\n",
    "mostly = MostlyAI(local=True)\n",
    "np.random.seed(42)\n",
    "\n",
    "print(\"✅ Setup completo!\")\n"
   ]
  },
  {
   "cell_type": "markdown",
   "id": "a7b40f96",
   "metadata": {},
   "source": [
    "---\n",
    "\n",
    "## 1. El Problema: Reidentificación (12 min)\n",
    "\n",
    "### 🎯 Escenario\n",
    "Trabajas en RRHH y necesitas compartir datos salariales con una consultora para un análisis de brecha salarial.\n",
    "\n",
    "Eliminas los nombres y piensas: *\"Ya está anonimizado\"*\n",
    "\n",
    "**¿Es suficiente?** 🤔\n"
   ]
  },
  {
   "cell_type": "markdown",
   "id": "dc692fae",
   "metadata": {},
   "source": [
    "### Cargar el dataset Census\n"
   ]
  },
  {
   "cell_type": "code",
   "execution_count": null,
   "id": "7fce9f76",
   "metadata": {},
   "outputs": [],
   "source": [
    "url = \"https://github.com/mostly-ai/public-demo-data/raw/dev/census/census.csv.gz\"\n",
    "census = pd.read_csv(url)\n",
    "\n",
    "print(f\"Dataset: {census.shape[0]:,} registros, {census.shape[1]} columnas\")\n",
    "print(f\"\\nColumnas: {list(census.columns)}\")\n",
    "census.head()\n"
   ]
  },
  {
   "cell_type": "code",
   "execution_count": null,
   "id": "bac4a28e",
   "metadata": {},
   "outputs": [],
   "source": [
    "census.describe()\n"
   ]
  },
  {
   "cell_type": "markdown",
   "id": "9e175f1e",
   "metadata": {},
   "source": [
    "### Demo de Reidentificación\n",
    "\n",
    "Imagina que conoces a alguien con estas características:\n",
    "- Mujer\n",
    "- PhD (Doctorado)\n",
    "- Ejecutiva\n",
    "- 45-50 años\n",
    "- Gana >50K\n",
    "\n",
    "**¿Podemos encontrarla en el dataset \"anonimizado\"?**\n"
   ]
  },
  {
   "cell_type": "code",
   "execution_count": null,
   "id": "ed6fab74",
   "metadata": {},
   "outputs": [],
   "source": [
    "print(\"🔍 DEMO: REIDENTIFICACIÓN\")\n",
    "print(\"=\"*60)\n",
    "\n",
    "candidatos = census[\n",
    "    (census['sex'] == 'Female') &\n",
    "    (census['education'] == 'Doctorate') &\n",
    "    (census['age'] >= 45) & (census['age'] <= 50) &\n",
    "    (census['occupation'] == 'Exec-managerial') &\n",
    "    (census['income'] == '>50K')\n",
    "]\n",
    "\n",
    "print(f\"\\nBuscando: Mujer, PhD, ejecutiva, 45-50 años, >50K\")\n",
    "print(f\"Candidatos encontrados: {len(candidatos)}\")\n",
    "\n",
    "if len(candidatos) <= 3:\n",
    "    print(\"\\n⚠️  ¡FÁCILMENTE IDENTIFICABLE!\")\n",
    "    print(\"Con información pública (LinkedIn, redes) → identificación completa\")\n",
    "    if len(candidatos) > 0:\n",
    "        print(\"\\nEjemplo de registro identificable:\")\n",
    "        print(candidatos.iloc[0][['age', 'education', 'occupation', 'hours_per_week', 'income']])\n"
   ]
  },
  {
   "cell_type": "markdown",
   "id": "7f0e7472",
   "metadata": {},
   "source": [
    "### Análisis de riesgo general\n"
   ]
  },
  {
   "cell_type": "code",
   "execution_count": null,
   "id": "acf2ddd8",
   "metadata": {},
   "outputs": [],
   "source": [
    "print(\"📊 ANÁLISIS DE RIESGO GENERAL\")\n",
    "print(\"=\"*60)\n",
    "\n",
    "combos = census.groupby(['sex', 'education', 'occupation', 'age']).size()\n",
    "unicos = combos[combos == 1]\n",
    "\n",
    "print(f\"\\nCombinaciones únicas: {len(unicos):,} de {len(census):,}\")\n",
    "print(f\"Porcentaje de registros únicos: {len(unicos)/len(census)*100:.1f}%\")\n",
    "\n",
    "print(\"\\n🚨 CONCLUSIÓN:\")\n",
    "print(\"   • Miles de personas son identificables con solo 4 características\")\n",
    "print(\"   • Anonimización tradicional NO funciona\")\n",
    "print(\"   • Necesitamos una solución mejor: DATOS SINTÉTICOS\")\n"
   ]
  },
  {
   "cell_type": "markdown",
   "id": "15a7de77",
   "metadata": {},
   "source": [
    "### Casos reales de reidentificación\n",
    "\n",
    "**Ejemplos históricos:**\n",
    "- **AOL Search Data (2006)**: 650,000 usuarios \"anonimizados\" → periodistas identificaron individuos por sus búsquedas\n",
    "- **Netflix Prize (2007)**: Dataset \"anonimizado\" → investigadores reidentificaron usuarios cruzando con IMDB\n",
    "- **NYC Taxi Data (2014)**: Viajes \"anonimizados\" → identificaron celebridades y sus destinos\n",
    "\n",
    "**La solución: Datos Sintéticos**\n",
    "- ✅ Privacidad real (no contienen información de personas reales)\n",
    "- ✅ Utilidad preservada (mantienen patrones estadísticos)\n",
    "- ✅ Sin riesgo de reidentificación\n",
    "- ✅ Compartibles libremente"
   ]
  },
  {
   "cell_type": "markdown",
   "id": "af55f464",
   "metadata": {},
   "source": [
    "---\n",
    "\n",
    "## 2. Fundamentos: Tu primer dataset sintético (18 min)\n",
    "\n",
    "Vamos a generar una versión sintética del Census dataset que:\n",
    "1. Preserve las distribuciones estadísticas\n",
    "2. No contenga información de personas reales\n",
    "3. Sea útil para análisis y ML"
   ]
  },
  {
   "cell_type": "markdown",
   "id": "ea4aeb3a",
   "metadata": {},
   "source": [
    "### Preparar los datos"
   ]
  },
  {
   "cell_type": "code",
   "execution_count": null,
   "id": "e7d37fbb",
   "metadata": {},
   "outputs": [],
   "source": [
    "from sklearn.model_selection import train_test_split\n",
    "\n",
    "census_sample = census.sample(10000, random_state=42)\n",
    "\n",
    "train_data, holdout_data = train_test_split(\n",
    "    census_sample, \n",
    "    test_size=0.2, \n",
    "    random_state=42,\n",
    "    stratify=census_sample['income']\n",
    ")\n",
    "\n",
    "print(f\"Training: {len(train_data):,} registros\")\n",
    "print(f\"Holdout: {len(holdout_data):,} registros\")"
   ]
  },
  {
   "cell_type": "markdown",
   "id": "c5620735",
   "metadata": {},
   "source": [
    "### Entrenar el generator\n",
    "\n",
    "El generator aprende los patrones estadísticos del dataset original."
   ]
  },
  {
   "cell_type": "code",
   "execution_count": null,
   "id": "8e6fa896",
   "metadata": {},
   "outputs": [],
   "source": [
    "config = {\n",
    "    'name': 'Census Income Generator',\n",
    "    'tables': [{\n",
    "        'name': 'census',\n",
    "        'data': train_data,\n",
    "        'tabular_model_configuration': {\n",
    "            'max_training_time': 3\n",
    "        }\n",
    "    }]\n",
    "}\n",
    "\n",
    "print(\"🚀 Entrenando generator...\")\n",
    "print(\"(Esto puede tardar unos minutos)\\n\")\n",
    "\n",
    "g = mostly.train(config=config)\n",
    "\n",
    "print(\"\\n✅ Generator entrenado!\")"
   ]
  },
  {
   "cell_type": "markdown",
   "id": "2cefb528",
   "metadata": {},
   "source": [
    "### Generar datos sintéticos\n",
    "\n",
    "Primero probamos con pocos registros, luego generamos el dataset completo."
   ]
  },
  {
   "cell_type": "code",
   "execution_count": null,
   "id": "ad169291",
   "metadata": {},
   "outputs": [],
   "source": [
    "probe = mostly.probe(g, size=5)\n",
    "print(\"🔬 Probe (5 registros sintéticos):\")\n",
    "probe"
   ]
  },
  {
   "cell_type": "code",
   "execution_count": null,
   "id": "25c7d4fe",
   "metadata": {},
   "outputs": [],
   "source": [
    "print(\"🎲 Generando dataset sintético completo...\\n\")\n",
    "\n",
    "syn_dataset = mostly.generate(g, size=len(train_data))\n",
    "syn_data = syn_dataset.data()\n",
    "\n",
    "print(f\"\\n✅ Dataset sintético: {syn_data.shape[0]:,} registros\")\n",
    "syn_data.head()"
   ]
  },
  {
   "cell_type": "markdown",
   "id": "41660189",
   "metadata": {},
   "source": [
    "### Comparar distribuciones: Real vs Sintético"
   ]
  },
  {
   "cell_type": "code",
   "execution_count": null,
   "id": "1c8ecad0",
   "metadata": {},
   "outputs": [],
   "source": [
    "fig, axes = plt.subplots(2, 3, figsize=(15, 8))\n",
    "axes = axes.ravel()\n",
    "\n",
    "cols_to_plot = ['age', 'education', 'occupation', 'income', 'hours_per_week', 'sex']\n",
    "\n",
    "for idx, col in enumerate(cols_to_plot):\n",
    "    ax = axes[idx]\n",
    "    \n",
    "    if train_data[col].dtype == 'object' or train_data[col].nunique() < 10:\n",
    "        real_counts = train_data[col].value_counts(normalize=True).sort_index()\n",
    "        syn_counts = syn_data[col].value_counts(normalize=True).sort_index()\n",
    "        \n",
    "        x = np.arange(len(real_counts))\n",
    "        width = 0.35\n",
    "        \n",
    "        ax.bar(x - width/2, real_counts.values, width, label='Real', alpha=0.8)\n",
    "        ax.bar(x + width/2, syn_counts.values, width, label='Sintético', alpha=0.8)\n",
    "        ax.set_xticks(x)\n",
    "        ax.set_xticklabels(real_counts.index, rotation=45, ha='right', fontsize=8)\n",
    "    else:\n",
    "        ax.hist(train_data[col].dropna(), bins=30, alpha=0.6, label='Real', density=True)\n",
    "        ax.hist(syn_data[col].dropna(), bins=30, alpha=0.6, label='Sintético', density=True)\n",
    "    \n",
    "    ax.set_title(col, fontweight='bold')\n",
    "    ax.legend()\n",
    "    ax.grid(alpha=0.3)\n",
    "\n",
    "plt.tight_layout()\n",
    "plt.show()\n",
    "\n",
    "print(\"📊 Las distribuciones se preservan!\")"
   ]
  },
  {
   "cell_type": "markdown",
   "id": "41adc9a0",
   "metadata": {},
   "source": [
    "### Verificar: ¿Funciona la reidentificación en datos sintéticos?"
   ]
  },
  {
   "cell_type": "code",
   "execution_count": null,
   "id": "ff32b5e5",
   "metadata": {},
   "outputs": [],
   "source": [
    "print(\"🔍 VERIFICACIÓN: Reidentificación en datos SINTÉTICOS\")\n",
    "print(\"=\"*60)\n",
    "\n",
    "candidatos_syn = syn_data[\n",
    "    (syn_data['sex'] == 'Female') &\n",
    "    (syn_data['education'] == 'Doctorate') &\n",
    "    (syn_data['age'] >= 45) & (syn_data['age'] <= 50) &\n",
    "    (syn_data['occupation'] == 'Exec-managerial') &\n",
    "    (syn_data['income'] == '>50K')\n",
    "]\n",
    "\n",
    "print(f\"\\nCandidatos en datos REALES: {len(candidatos)}\")\n",
    "print(f\"Candidatos en datos SINTÉTICOS: {len(candidatos_syn)}\")\n",
    "\n",
    "combos_syn = syn_data.groupby(['sex', 'education', 'occupation', 'age']).size()\n",
    "unicos_syn = combos_syn[combos_syn == 1]\n",
    "\n",
    "print(f\"\\nCombinaciones únicas en REALES: {len(unicos):,} ({len(unicos)/len(train_data)*100:.1f}%)\")\n",
    "print(f\"Combinaciones únicas en SINTÉTICOS: {len(unicos_syn):,} ({len(unicos_syn)/len(syn_data)*100:.1f}%)\")\n",
    "\n",
    "print(\"\\n✅ CONCLUSIÓN: Los datos sintéticos NO permiten reidentificación!\")"
   ]
  },
  {
   "cell_type": "markdown",
   "id": "31222044",
   "metadata": {},
   "source": [
    "---\n",
    "\n",
    "## 3. Evaluación: ¿Son buenos estos datos? (12 min)\n",
    "\n",
    "Dos formas de evaluar calidad:\n",
    "1. **QA Report**: Métricas automáticas de fidelidad\n",
    "2. **TSTR**: Train-on-Synthetic / Test-on-Real"
   ]
  },
  {
   "cell_type": "markdown",
   "id": "38a0aa73",
   "metadata": {},
   "source": [
    "### QA Report automático"
   ]
  },
  {
   "cell_type": "code",
   "execution_count": null,
   "id": "8ba24ff1",
   "metadata": {},
   "outputs": [],
   "source": [
    "print(\"📊 Quality Assurance Report:\\n\")\n",
    "g.reports(display=True)"
   ]
  },
  {
   "cell_type": "markdown",
   "id": "f77983e8",
   "metadata": {},
   "source": [
    "**Métricas del QA Report:**\n",
    "\n",
    "- **Accuracy**: Compara distribuciones univariadas y bivariadas\n",
    "- **Similarity**: Compara embeddings de orden superior (patrones complejos)\n",
    "- **Distance**: DCR (Distance to Closest Record) - mide novelty"
   ]
  },
  {
   "cell_type": "markdown",
   "id": "c6e14b1f",
   "metadata": {},
   "source": [
    "### TSTR: Train-on-Synthetic / Test-on-Real\n",
    "\n",
    "**Pregunta**: ¿Puedo entrenar un modelo con datos sintéticos y que funcione en datos reales?\n",
    "\n",
    "**Tarea**: Predecir income (>50K vs <=50K)"
   ]
  },
  {
   "cell_type": "code",
   "execution_count": null,
   "id": "3a6f5f29",
   "metadata": {},
   "outputs": [],
   "source": [
    "from sklearn.linear_model import LogisticRegression\n",
    "from sklearn.preprocessing import StandardScaler, OneHotEncoder\n",
    "from sklearn.compose import ColumnTransformer\n",
    "from sklearn.pipeline import Pipeline\n",
    "from sklearn.metrics import classification_report\n",
    "\n",
    "numeric_cols = ['age', 'capital_gain', 'capital_loss', 'hours_per_week', 'fnlwgt']\n",
    "categorical_cols = ['workclass', 'education', 'marital_status', 'occupation', \n",
    "                    'relationship', 'race', 'sex', 'native_country']\n",
    "\n",
    "preprocessor = ColumnTransformer(\n",
    "    transformers=[\n",
    "        ('num', StandardScaler(), numeric_cols),\n",
    "        ('cat', OneHotEncoder(handle_unknown='ignore'), categorical_cols)\n",
    "    ]\n",
    ")\n",
    "\n",
    "def evaluate_tstr(train_df, test_df, label):\n",
    "    train_clean = train_df.dropna()\n",
    "    test_clean = test_df.dropna()\n",
    "    \n",
    "    X_train = train_clean.drop(columns=['income'])\n",
    "    y_train = train_clean['income']\n",
    "    \n",
    "    X_test = test_clean.drop(columns=['income'])\n",
    "    y_test = test_clean['income']\n",
    "    \n",
    "    clf = Pipeline([\n",
    "        ('preprocessor', preprocessor),\n",
    "        ('classifier', LogisticRegression(max_iter=500))\n",
    "    ])\n",
    "    \n",
    "    clf.fit(X_train, y_train)\n",
    "    y_pred = clf.predict(X_test)\n",
    "    \n",
    "    print(f\"\\n{'='*60}\")\n",
    "    print(f\"{label}\")\n",
    "    print(f\"{'='*60}\")\n",
    "    print(classification_report(y_test, y_pred, digits=3))\n",
    "    \n",
    "    return classification_report(y_test, y_pred, output_dict=True)\n",
    "\n",
    "report_tstr = evaluate_tstr(syn_data, holdout_data, \"TSTR: Train-on-Synthetic / Test-on-Real\")\n",
    "report_real = evaluate_tstr(train_data, holdout_data, \"Baseline: Train-on-Real / Test-on-Real\")"
   ]
  },
  {
   "cell_type": "markdown",
   "id": "cb260931",
   "metadata": {},
   "source": [
    "### Comparación visual"
   ]
  },
  {
   "cell_type": "code",
   "execution_count": null,
   "id": "0c407d53",
   "metadata": {},
   "outputs": [],
   "source": [
    "metrics = ['precision', 'recall', 'f1-score']\n",
    "tstr_scores = [report_tstr['weighted avg'][m] for m in metrics]\n",
    "real_scores = [report_real['weighted avg'][m] for m in metrics]\n",
    "\n",
    "x = np.arange(len(metrics))\n",
    "width = 0.35\n",
    "\n",
    "fig, ax = plt.subplots(figsize=(10, 6))\n",
    "ax.bar(x - width/2, tstr_scores, width, label='Train-on-Synthetic', alpha=0.8)\n",
    "ax.bar(x + width/2, real_scores, width, label='Train-on-Real', alpha=0.8)\n",
    "\n",
    "ax.set_ylabel('Score')\n",
    "ax.set_title('Comparación TSTR vs Train-on-Real', fontweight='bold', fontsize=14)\n",
    "ax.set_xticks(x)\n",
    "ax.set_xticklabels(metrics)\n",
    "ax.set_ylim(0.6, 0.9)\n",
    "ax.legend()\n",
    "ax.grid(axis='y', alpha=0.3)\n",
    "\n",
    "for i, (tstr, real) in enumerate(zip(tstr_scores, real_scores)):\n",
    "    ax.text(i - width/2, tstr + 0.01, f'{tstr:.3f}', ha='center', fontsize=10)\n",
    "    ax.text(i + width/2, real + 0.01, f'{real:.3f}', ha='center', fontsize=10)\n",
    "\n",
    "plt.tight_layout()\n",
    "plt.show()\n",
    "\n",
    "print(\"\\n✅ Los datos sintéticos son útiles para ML!\")"
   ]
  },
  {
   "cell_type": "markdown",
   "id": "026558bd",
   "metadata": {},
   "source": [
    "---\n",
    "\n",
    "## 4. Control del resultado: Filtros y condiciones (20 min)\n",
    "\n",
    "Ahora que sabemos generar datos sintéticos, vamos a controlar QUÉ generamos."
   ]
  },
  {
   "cell_type": "markdown",
   "id": "779cfd12",
   "metadata": {},
   "source": [
    "### A. Seeded Generation (Generación Condicional)\n",
    "\n",
    "**Caso de uso**: Quiero generar solo mujeres con PhD\n",
    "\n",
    "**Cómo funciona**: Fijamos algunas columnas, el generator \"completa\" el resto manteniendo coherencia."
   ]
  },
  {
   "cell_type": "code",
   "execution_count": null,
   "id": "ab9db798",
   "metadata": {},
   "outputs": [],
   "source": [
    "print(\"🎯 SEEDED GENERATION: Solo mujeres con PhD\\n\")\n",
    "\n",
    "seed_women_phd = pd.DataFrame({\n",
    "    'sex': ['Female'] * 20,\n",
    "    'education': ['Doctorate'] * 20\n",
    "})\n",
    "\n",
    "print(\"Seed data (lo que fijamos):\")\n",
    "print(seed_women_phd.head())\n",
    "\n",
    "syn_conditional = mostly.generate(g, seed=seed_women_phd)\n",
    "syn_women_phd = syn_conditional.data()\n",
    "\n",
    "print(\"\\nDatos sintéticos generados (el generator completó el resto):\")\n",
    "print(syn_women_phd[['sex', 'education', 'age', 'occupation', 'income', 'hours_per_week']].head(10))\n",
    "\n",
    "print(f\"\\n✅ Verificación:\")\n",
    "print(f\"   • Todas mujeres: {(syn_women_phd['sex'] == 'Female').all()}\")\n",
    "print(f\"   • Todas PhD: {(syn_women_phd['education'] == 'Doctorate').all()}\")\n",
    "print(f\"   • Ocupaciones variadas: {syn_women_phd['occupation'].nunique()} diferentes\")\n",
    "print(f\"   • Edades variadas: {syn_women_phd['age'].min():.0f} - {syn_women_phd['age'].max():.0f} años\")"
   ]
  },
  {
   "cell_type": "markdown",
   "id": "20990954",
   "metadata": {},
   "source": [
    "### Ejemplo 2: Generar personas jóvenes con altos ingresos"
   ]
  },
  {
   "cell_type": "code",
   "execution_count": null,
   "id": "53c739a2",
   "metadata": {},
   "outputs": [],
   "source": [
    "print(\"🎯 SEEDED GENERATION: Jóvenes con altos ingresos\\n\")\n",
    "\n",
    "seed_young_rich = pd.DataFrame({\n",
    "    'age': [25, 26, 27, 28, 29, 30] * 5,\n",
    "    'income': ['>50K'] * 30\n",
    "})\n",
    "\n",
    "syn_young_rich = mostly.generate(g, seed=seed_young_rich).data()\n",
    "\n",
    "print(\"Datos sintéticos generados:\")\n",
    "print(syn_young_rich[['age', 'income', 'education', 'occupation', 'hours_per_week']].head(10))\n",
    "\n",
    "print(f\"\\n📊 Distribución de educación en jóvenes con >50K:\")\n",
    "print(syn_young_rich['education'].value_counts())"
   ]
  },
  {
   "cell_type": "markdown",
   "id": "687800cc",
   "metadata": {},
   "source": [
    "### 💡 Momento interactivo\n",
    "\n",
    "**¿Qué otras condiciones queréis probar?**\n",
    "\n",
    "Ideas:\n",
    "- Solo personas con Masters trabajando en Tech\n",
    "- Personas mayores de 60 años\n",
    "- Personas con ingresos bajos pero alta educación\n",
    "\n",
    "Probad vosotros:"
   ]
  },
  {
   "cell_type": "code",
   "execution_count": null,
   "id": "a93ce3dd",
   "metadata": {},
   "outputs": [],
   "source": [
    "# Tu turno: crea tu propia seed data\n",
    "\n",
    "# my_seed = pd.DataFrame({\n",
    "#     # Añade tus condiciones aquí\n",
    "# })\n",
    "\n",
    "# syn_custom = mostly.generate(g, seed=my_seed).data()\n",
    "# print(syn_custom.head())"
   ]
  },
  {
   "cell_type": "markdown",
   "id": "af73a3fe",
   "metadata": {},
   "source": [
    "### B. Imputation Inteligente\n",
    "\n",
    "**Caso de uso**: Tengo datos con valores faltantes en `education`\n",
    "\n",
    "**Solución**: El generator imputa valores coherentes basándose en el resto de características"
   ]
  },
  {
   "cell_type": "code",
   "execution_count": null,
   "id": "fef0c9e6",
   "metadata": {},
   "outputs": [],
   "source": [
    "print(\"🔧 IMPUTATION: Completar valores faltantes\\n\")\n",
    "\n",
    "data_with_missing = train_data[train_data['education'].isnull()].copy()\n",
    "\n",
    "if len(data_with_missing) == 0:\n",
    "    print(\"No hay valores faltantes en education. Creando algunos artificialmente...\")\n",
    "    data_with_missing = train_data.sample(50, random_state=42).copy()\n",
    "    data_with_missing['education'] = None\n",
    "\n",
    "print(f\"Registros con education faltante: {len(data_with_missing)}\")\n",
    "print(\"\\nEjemplo de datos con valores faltantes:\")\n",
    "print(data_with_missing[['age', 'occupation', 'education', 'income']].head())\n",
    "\n",
    "imputation_config = {\n",
    "    'tables': [{\n",
    "        'configuration': {\n",
    "            'imputation': {'columns': ['education']}\n",
    "        }\n",
    "    }]\n",
    "}\n",
    "\n",
    "syn_imputed = mostly.generate(g, config=imputation_config, seed=data_with_missing).data()\n",
    "\n",
    "print(\"\\n✅ Datos con education imputada:\")\n",
    "print(syn_imputed[['age', 'occupation', 'education', 'income']].head())\n",
    "\n",
    "print(f\"\\nValores faltantes después de imputation: {syn_imputed['education'].isnull().sum()}\")"
   ]
  },
  {
   "cell_type": "markdown",
   "id": "46df270d",
   "metadata": {},
   "source": [
    "### Comparación: Imputation inteligente vs naive"
   ]
  },
  {
   "cell_type": "code",
   "execution_count": null,
   "id": "468d1101",
   "metadata": {},
   "outputs": [],
   "source": [
    "naive_imputed = data_with_missing.copy()\n",
    "naive_imputed['education'] = train_data['education'].mode()[0]\n",
    "\n",
    "fig, (ax1, ax2) = plt.subplots(1, 2, figsize=(14, 5))\n",
    "\n",
    "syn_imputed['education'].value_counts().plot(kind='bar', ax=ax1, alpha=0.8)\n",
    "ax1.set_title('Imputation Inteligente (Synthetic)', fontweight='bold')\n",
    "ax1.set_ylabel('Frecuencia')\n",
    "ax1.tick_params(axis='x', rotation=45)\n",
    "\n",
    "naive_imputed['education'].value_counts().plot(kind='bar', ax=ax2, alpha=0.8, color='orange')\n",
    "ax2.set_title('Imputation Naive (Mode)', fontweight='bold')\n",
    "ax2.set_ylabel('Frecuencia')\n",
    "ax2.tick_params(axis='x', rotation=45)\n",
    "\n",
    "plt.tight_layout()\n",
    "plt.show()\n",
    "\n",
    "print(\"📊 La imputation inteligente preserva la variabilidad!\")"
   ]
  },
  {
   "cell_type": "markdown",
   "id": "82287794",
   "metadata": {},
   "source": [
    "### C. Rebalancing de clases\n",
    "\n",
    "**Problema**: El dataset está desbalanceado (más personas con <=50K que con >50K)\n",
    "\n",
    "**Solución**: Generar más registros de la clase minoritaria"
   ]
  },
  {
   "cell_type": "code",
   "execution_count": null,
   "id": "a7d352f7",
   "metadata": {},
   "outputs": [],
   "source": [
    "print(\"⚖️  REBALANCING: Balancear clases de income\\n\")\n",
    "\n",
    "print(\"Distribución ORIGINAL:\")\n",
    "print(train_data['income'].value_counts(normalize=True))\n",
    "\n",
    "print(\"\\nDistribución SINTÉTICA (sin rebalancing):\")\n",
    "print(syn_data['income'].value_counts(normalize=True))\n",
    "\n",
    "seed_high_income = pd.DataFrame({\n",
    "    'income': ['>50K'] * 2000\n",
    "})\n",
    "\n",
    "syn_high_income = mostly.generate(g, seed=seed_high_income).data()\n",
    "\n",
    "syn_balanced = pd.concat([syn_data, syn_high_income], ignore_index=True)\n",
    "\n",
    "print(\"\\nDistribución BALANCEADA:\")\n",
    "print(syn_balanced['income'].value_counts(normalize=True))"
   ]
  },
  {
   "cell_type": "code",
   "execution_count": null,
   "id": "e6b6f27f",
   "metadata": {},
   "outputs": [],
   "source": [
    "fig, axes = plt.subplots(1, 3, figsize=(15, 4))\n",
    "\n",
    "train_data['income'].value_counts().plot(kind='bar', ax=axes[0], alpha=0.8)\n",
    "axes[0].set_title('Original', fontweight='bold')\n",
    "axes[0].set_ylabel('Frecuencia')\n",
    "\n",
    "syn_data['income'].value_counts().plot(kind='bar', ax=axes[1], alpha=0.8)\n",
    "axes[1].set_title('Sintético (sin rebalancing)', fontweight='bold')\n",
    "axes[1].set_ylabel('Frecuencia')\n",
    "\n",
    "syn_balanced['income'].value_counts().plot(kind='bar', ax=axes[2], alpha=0.8, color='green')\n",
    "axes[2].set_title('Sintético (balanceado)', fontweight='bold')\n",
    "axes[2].set_ylabel('Frecuencia')\n",
    "\n",
    "plt.tight_layout()\n",
    "plt.show()\n",
    "\n",
    "print(\"✅ Clases balanceadas para mejor entrenamiento de modelos!\")"
   ]
  },
  {
   "cell_type": "markdown",
   "id": "e632987e",
   "metadata": {},
   "source": [
    "---\n",
    "\n",
    "## 5. Datasets Multitabla con Relaciones (20 min)\n",
    "\n",
    "En el mundo real, los datos suelen estar en múltiples tablas relacionadas.\n",
    "\n",
    "**Ejemplo**: Separar Census en:\n",
    "- **Personas**: Datos demográficos\n",
    "- **Empleos**: Información laboral\n",
    "- **Educación**: Historial educativo"
   ]
  },
  {
   "cell_type": "markdown",
   "id": "ad3ce835",
   "metadata": {},
   "source": [
    "### Crear estructura multitabla"
   ]
  },
  {
   "cell_type": "code",
   "execution_count": null,
   "id": "bca1777d",
   "metadata": {},
   "outputs": [],
   "source": [
    "print(\"🏗️  CREANDO ESTRUCTURA MULTITABLA\\n\")\n",
    "\n",
    "train_with_id = train_data.copy()\n",
    "train_with_id['person_id'] = range(len(train_with_id))\n",
    "\n",
    "persons = train_with_id[['person_id', 'age', 'sex', 'race', 'marital_status', 'relationship', 'native_country']].copy()\n",
    "\n",
    "jobs = train_with_id[['person_id', 'workclass', 'occupation', 'hours_per_week', 'income']].copy()\n",
    "\n",
    "education = train_with_id[['person_id', 'education', 'education_num']].copy()\n",
    "\n",
    "print(f\"✅ Tabla PERSONS: {persons.shape}\")\n",
    "print(persons.head(3))\n",
    "\n",
    "print(f\"\\n✅ Tabla JOBS: {jobs.shape}\")\n",
    "print(jobs.head(3))\n",
    "\n",
    "print(f\"\\n✅ Tabla EDUCATION: {education.shape}\")\n",
    "print(education.head(3))"
   ]
  },
  {
   "cell_type": "markdown",
   "id": "f69b521d",
   "metadata": {},
   "source": [
    "### Configurar relaciones y entrenar"
   ]
  },
  {
   "cell_type": "code",
   "execution_count": null,
   "id": "fd43a166",
   "metadata": {},
   "outputs": [],
   "source": [
    "multi_config = {\n",
    "    'name': 'Census Multi-Table',\n",
    "    'tables': [\n",
    "        {\n",
    "            'name': 'persons',\n",
    "            'data': persons,\n",
    "            'keys': [{'column': 'person_id'}]\n",
    "        },\n",
    "        {\n",
    "            'name': 'jobs',\n",
    "            'data': jobs,\n",
    "            'keys': [{\n",
    "                'column': 'person_id',\n",
    "                'reference': {\n",
    "                    'table': 'persons',\n",
    "                    'column': 'person_id'\n",
    "                }\n",
    "            }]\n",
    "        },\n",
    "        {\n",
    "            'name': 'education',\n",
    "            'data': education,\n",
    "            'keys': [{\n",
    "                'column': 'person_id',\n",
    "                'reference': {\n",
    "                    'table': 'persons',\n",
    "                    'column': 'person_id'\n",
    "                }\n",
    "            }]\n",
    "        }\n",
    "    ]\n",
    "}\n",
    "\n",
    "print(\"🚀 Entrenando generator multitabla...\\n\")\n",
    "g_multi = mostly.train(multi_config)\n",
    "print(\"\\n✅ Generator multitabla entrenado!\")"
   ]
  },
  {
   "cell_type": "markdown",
   "id": "c9eb5b70",
   "metadata": {},
   "source": [
    "### Generar datos sintéticos multitabla"
   ]
  },
  {
   "cell_type": "code",
   "execution_count": null,
   "id": "66e2c4c8",
   "metadata": {},
   "outputs": [],
   "source": [
    "print(\"🎲 Generando datos sintéticos multitabla...\\n\")\n",
    "\n",
    "syn_multi = mostly.generate(g_multi, size=1000)\n",
    "\n",
    "syn_persons = syn_multi.data('persons')\n",
    "syn_jobs = syn_multi.data('jobs')\n",
    "syn_education = syn_multi.data('education')\n",
    "\n",
    "print(f\"✅ Tabla PERSONS sintética: {syn_persons.shape}\")\n",
    "print(syn_persons.head(3))\n",
    "\n",
    "print(f\"\\n✅ Tabla JOBS sintética: {syn_jobs.shape}\")\n",
    "print(syn_jobs.head(3))\n",
    "\n",
    "print(f\"\\n✅ Tabla EDUCATION sintética: {syn_education.shape}\")\n",
    "print(syn_education.head(3))"
   ]
  },
  {
   "cell_type": "markdown",
   "id": "3d9fbede",
   "metadata": {},
   "source": [
    "### Verificar integridad referencial"
   ]
  },
  {
   "cell_type": "code",
   "execution_count": null,
   "id": "3d80ea24",
   "metadata": {},
   "outputs": [],
   "source": [
    "print(\"🔍 VERIFICACIÓN DE INTEGRIDAD REFERENCIAL\\n\")\n",
    "\n",
    "persons_ids = set(syn_persons['person_id'])\n",
    "jobs_ids = set(syn_jobs['person_id'])\n",
    "education_ids = set(syn_education['person_id'])\n",
    "\n",
    "print(f\"IDs únicos en PERSONS: {len(persons_ids)}\")\n",
    "print(f\"IDs únicos en JOBS: {len(jobs_ids)}\")\n",
    "print(f\"IDs únicos en EDUCATION: {len(education_ids)}\")\n",
    "\n",
    "jobs_orphans = jobs_ids - persons_ids\n",
    "education_orphans = education_ids - persons_ids\n",
    "\n",
    "print(f\"\\n✅ Verificaciones:\")\n",
    "print(f\"   • JOBS sin persona: {len(jobs_orphans)} (debe ser 0)\")\n",
    "print(f\"   • EDUCATION sin persona: {len(education_orphans)} (debe ser 0)\")\n",
    "\n",
    "if len(jobs_orphans) == 0 and len(education_orphans) == 0:\n",
    "    print(\"\\n🎉 ¡Integridad referencial perfecta!\")\n",
    "else:\n",
    "    print(\"\\n⚠️  Hay registros huérfanos\")"
   ]
  },
  {
   "cell_type": "markdown",
   "id": "c466c865",
   "metadata": {},
   "source": [
    "### Ejemplo de JOIN: Reconstruir dataset completo"
   ]
  },
  {
   "cell_type": "code",
   "execution_count": null,
   "id": "bbc70c1f",
   "metadata": {},
   "outputs": [],
   "source": [
    "print(\"🔗 RECONSTRUYENDO DATASET COMPLETO CON JOINS\\n\")\n",
    "\n",
    "syn_complete = syn_persons.merge(syn_jobs, on='person_id').merge(syn_education, on='person_id')\n",
    "\n",
    "print(f\"Dataset completo: {syn_complete.shape}\")\n",
    "print(\"\\nPrimeras filas:\")\n",
    "print(syn_complete.head())\n",
    "\n",
    "print(\"\\n✅ Las relaciones se mantienen correctamente!\")"
   ]
  },
  {
   "cell_type": "markdown",
   "id": "ca697823",
   "metadata": {},
   "source": [
    "### Ejemplo práctico: Análisis por JOIN"
   ]
  },
  {
   "cell_type": "code",
   "execution_count": null,
   "id": "1daad0ed",
   "metadata": {},
   "outputs": [],
   "source": [
    "print(\"📊 ANÁLISIS: Income por nivel educativo y género\\n\")\n",
    "\n",
    "analysis = syn_complete.groupby(['education', 'sex', 'income']).size().unstack(fill_value=0)\n",
    "print(analysis)\n",
    "\n",
    "fig, ax = plt.subplots(figsize=(12, 6))\n",
    "education_income = syn_complete.groupby(['education', 'income']).size().unstack()\n",
    "education_income.plot(kind='bar', ax=ax, alpha=0.8)\n",
    "ax.set_title('Distribución de Income por Educación (Datos Sintéticos)', fontweight='bold')\n",
    "ax.set_xlabel('Nivel Educativo')\n",
    "ax.set_ylabel('Frecuencia')\n",
    "ax.legend(title='Income')\n",
    "plt.xticks(rotation=45, ha='right')\n",
    "plt.tight_layout()\n",
    "plt.show()\n",
    "\n",
    "print(\"\\n✅ Podemos hacer análisis complejos manteniendo relaciones!\")"
   ]
  },
  {
   "cell_type": "markdown",
   "id": "730af38d",
   "metadata": {},
   "source": [
    "### 💡 Otros casos de uso multitabla\n",
    "\n",
    "**E-commerce:**\n",
    "- Customers → Orders → Products → Reviews\n",
    "\n",
    "**Healthcare:**\n",
    "- Patients → Visits → Diagnoses → Prescriptions\n",
    "\n",
    "**Banking:**\n",
    "- Customers → Accounts → Transactions → Cards\n",
    "\n",
    "**IoT/Logs:**\n",
    "- Devices → Events → Metrics → Alerts"
   ]
  },
  {
   "cell_type": "markdown",
   "id": "baccd48d",
   "metadata": {},
   "source": [
    "---\n",
    "\n",
    "## 6. Wrap-up y Próximos Pasos (5 min)\n",
    "\n",
    "### 🎉 ¿Qué hemos aprendido?\n",
    "\n",
    "1. ✅ **El problema**: Anonimización tradicional no funciona\n",
    "2. ✅ **La solución**: Datos sintéticos con privacidad real\n",
    "3. ✅ **Generación básica**: Entrenar generators y generar datos\n",
    "4. ✅ **Evaluación**: QA Reports y TSTR\n",
    "5. ✅ **Control**: Seeded generation, imputation, rebalancing\n",
    "6. ✅ **Multitabla**: Mantener relaciones entre entidades\n",
    "\n",
    "### 🚀 Próximos pasos\n",
    "\n",
    "**Recursos:**\n",
    "- 📚 Documentación: [docs.mostly.ai](https://docs.mostly.ai)\n",
    "- 💻 GitHub: [github.com/mostly-ai/mostlyai](https://github.com/mostly-ai/mostlyai)\n",
    "- 🎓 Más ejemplos: [github.com/mostly-ai/mostly-tutorials](https://github.com/mostly-ai/mostly-tutorials)\n",
    "\n",
    "**Funcionalidades avanzadas (no cubiertas hoy):**\n",
    "- Privacidad diferencial (ε-differential privacy)\n",
    "- Fairness (datos sintéticos justos)\n",
    "- Datos secuenciales/temporales\n",
    "- Columnas de texto (con LLMs)\n",
    "- Modo cloud (más potente y rápido)\n",
    "\n",
    "**Casos de uso:**\n",
    "- 🔬 Investigación: Compartir datos sin restricciones\n",
    "- 🏢 Empresas: Testing, desarrollo, demos\n",
    "- 🎓 Educación: Datasets realistas para enseñanza\n",
    "- 🤖 ML: Data augmentation, balancing, imputation\n",
    "- 📊 Analytics: Análisis sin riesgos de privacidad"
   ]
  },
  {
   "cell_type": "markdown",
   "id": "159e5c0d",
   "metadata": {},
   "source": [
    "### 💬 Q&A\n",
    "\n",
    "¿Preguntas?"
   ]
  },
  {
   "cell_type": "markdown",
   "id": "936dff96",
   "metadata": {},
   "source": [
    "---\n",
    "\n",
    "## 🎁 Bonus: Experimentación libre\n",
    "\n",
    "Usa las siguientes celdas para experimentar con tus propios casos:"
   ]
  },
  {
   "cell_type": "code",
   "execution_count": null,
   "id": "9f4b86f6",
   "metadata": {},
   "outputs": [],
   "source": [
    "# Experimenta aquí con seeded generation\n"
   ]
  },
  {
   "cell_type": "code",
   "execution_count": null,
   "id": "3af20ddd",
   "metadata": {},
   "outputs": [],
   "source": [
    "# Experimenta aquí con imputation\n"
   ]
  },
  {
   "cell_type": "code",
   "execution_count": null,
   "id": "07aba485",
   "metadata": {},
   "outputs": [],
   "source": [
    "# Experimenta aquí con multitabla\n"
   ]
  },
  {
   "cell_type": "markdown",
   "id": "962b2555",
   "metadata": {},
   "source": [
    "---\n",
    "\n",
    "**¡Gracias por participar!** 🙏\n",
    "\n",
    "**Contacto:**\n",
    "- Twitter/X: [@mostly_ai](https://twitter.com/mostly_ai)\n",
    "- LinkedIn: [MOSTLY AI](https://www.linkedin.com/company/mostly-ai/)\n",
    "- Email: support@mostly.ai\n",
    "\n",
    "**Contribuye al proyecto:**\n",
    "- ⭐ Star en GitHub\n",
    "- 🐛 Reporta bugs\n",
    "- 💡 Sugiere features\n",
    "- 🔧 Contribuye código"
   ]
  }
 ],
 "metadata": {
  "language_info": {
   "name": "python"
  }
 },
 "nbformat": 4,
 "nbformat_minor": 5
}
